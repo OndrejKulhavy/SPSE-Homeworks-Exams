{
 "cells": [
  {
   "cell_type": "markdown",
   "source": [
    "# Kolekce v pythonu\n",
    "(Tuple, List, Set, Dictionary, String)"
   ],
   "metadata": {
    "collapsed": false
   },
   "id": "74300d6d4a412790"
  },
  {
   "cell_type": "markdown",
   "source": [
    "# Tuple\n",
    "### Je zachovano poradi ve kterem jsou prvky kolekce vkladany?\n",
    "Ano, ale prvky se dají přidat pouze jednou a to poprvé když je Tuple vytvořena."
   ],
   "metadata": {
    "collapsed": false
   },
   "id": "bd53d53903d83618"
  },
  {
   "cell_type": "code",
   "execution_count": 5,
   "outputs": [
    {
     "name": "stdout",
     "output_type": "stream",
     "text": [
      "(1, 2, 3, 4, 5, 6, 7, 8, 9, 10)\n"
     ]
    }
   ],
   "source": [
    "example_tuple = (1, 2, 3, 4, 5, 6, 7, 8, 9, 10)\n",
    "print(example_tuple)"
   ],
   "metadata": {
    "collapsed": false,
    "ExecuteTime": {
     "end_time": "2023-10-02T12:37:24.393613600Z",
     "start_time": "2023-10-02T12:37:22.869579100Z"
    }
   },
   "id": "5e895dbb74e3ad7b"
  },
  {
   "cell_type": "markdown",
   "source": [],
   "metadata": {
    "collapsed": false
   },
   "id": "b674239cf2ad4a34"
  },
  {
   "cell_type": "markdown",
   "source": [
    "### Jsou hodnoty ulozene v serazenem poradi od nejmensiho po nejvetsi?\n",
    "Pouze, pokud jsou pri vytvareni Tuple serazene."
   ],
   "metadata": {
    "collapsed": false
   },
   "id": "81cc6d38ec0fff25"
  },
  {
   "cell_type": "code",
   "execution_count": 6,
   "outputs": [
    {
     "name": "stdout",
     "output_type": "stream",
     "text": [
      "(5, 1, 2, 3)\n",
      "(1, 2, 3, 5)\n"
     ]
    }
   ],
   "source": [
    "example_tuple = (5,1,2,3)\n",
    "sorted_tuple = (1,2,3,5)\n",
    "\n",
    "print(example_tuple)\n",
    "print(sorted_tuple)"
   ],
   "metadata": {
    "collapsed": false,
    "ExecuteTime": {
     "end_time": "2023-10-02T12:37:25.082764100Z",
     "start_time": "2023-10-02T12:37:22.894581800Z"
    }
   },
   "id": "fe2b090c27f94fc4"
  },
  {
   "cell_type": "markdown",
   "source": [
    "### Používá se pro přístup k hodnotám index? (Index je systémem vygenerované číslo 0,1,2.. )\n",
    "Ano, index se používá pro přístup k hodnotám."
   ],
   "metadata": {
    "collapsed": false
   },
   "id": "2786359fb320aba2"
  },
  {
   "cell_type": "code",
   "execution_count": 7,
   "outputs": [
    {
     "name": "stdout",
     "output_type": "stream",
     "text": [
      "1\n"
     ]
    }
   ],
   "source": [
    "example_tuple = (1, 2, 3, 4, 5, 6, 7, 8, 9, 10)\n",
    "print(example_tuple[0])"
   ],
   "metadata": {
    "collapsed": false,
    "ExecuteTime": {
     "end_time": "2023-10-02T12:37:25.128907600Z",
     "start_time": "2023-10-02T12:37:22.911576200Z"
    }
   },
   "id": "d6962fecd534b937"
  },
  {
   "cell_type": "markdown",
   "source": [
    "### Je mozne ulozit dva stejné prvky?\n",
    "Ano, je možné uložit dva stejné prvky."
   ],
   "metadata": {
    "collapsed": false
   },
   "id": "e560bc377b18dd60"
  },
  {
   "cell_type": "code",
   "execution_count": 8,
   "outputs": [
    {
     "name": "stdout",
     "output_type": "stream",
     "text": [
      "(1, 1, 1, 1, 1, 1, 1, 1, 1, 1)\n"
     ]
    }
   ],
   "source": [
    "example_tuple = (1, 1, 1, 1, 1, 1, 1, 1, 1, 1)\n",
    "print(example_tuple)"
   ],
   "metadata": {
    "collapsed": false,
    "ExecuteTime": {
     "end_time": "2023-10-02T12:37:25.129781600Z",
     "start_time": "2023-10-02T12:37:22.930580900Z"
    }
   },
   "id": "8ec4c07657369bdb"
  },
  {
   "cell_type": "markdown",
   "source": [
    "### Je mozne vlozit hodnotu None?\n",
    "Ano, je možné vložit hodnotu None."
   ],
   "metadata": {
    "collapsed": false
   },
   "id": "b872dc6cdaf4d91b"
  },
  {
   "cell_type": "code",
   "execution_count": 9,
   "outputs": [
    {
     "name": "stdout",
     "output_type": "stream",
     "text": [
      "(None, None, None)\n"
     ]
    }
   ],
   "source": [
    "example_tuple = (None, None, None)\n",
    "print(example_tuple)"
   ],
   "metadata": {
    "collapsed": false,
    "ExecuteTime": {
     "end_time": "2023-10-02T12:37:25.135774500Z",
     "start_time": "2023-10-02T12:37:22.955603100Z"
    }
   },
   "id": "5cd84a5d44ac9e06"
  },
  {
   "cell_type": "markdown",
   "source": [
    "### Je možné kolekce vnořovat, tedy vložit jako prvek kolekce další kolekci s několika prvky?\n",
    "Ano, je možné kolekce vnořovat."
   ],
   "metadata": {
    "collapsed": false
   },
   "id": "a3d60c38eb28f931"
  },
  {
   "cell_type": "code",
   "execution_count": 10,
   "outputs": [
    {
     "name": "stdout",
     "output_type": "stream",
     "text": [
      "(1, 2, 3, 4, 5, 6, 7, 8, 9, 10)\n"
     ]
    }
   ],
   "source": [
    "example_tuple = (1, 2, 3, 4, 5, 6, 7, 8, 9, 10), (1, 2, 3, 4, 5, 6, 7, 8, 9, 10)\n",
    "print(example_tuple[0])"
   ],
   "metadata": {
    "collapsed": false,
    "ExecuteTime": {
     "end_time": "2023-10-02T12:37:25.152772400Z",
     "start_time": "2023-10-02T12:37:22.987575700Z"
    }
   },
   "id": "d25086af4a817a48"
  },
  {
   "cell_type": "markdown",
   "source": [
    "### Je možné za běhu programu změnit velikost kolekce?\n",
    "Ne, velikost kolekce nelze za běhu programu změnit."
   ],
   "metadata": {
    "collapsed": false
   },
   "id": "6ecfa6f58b6b8166"
  },
  {
   "cell_type": "markdown",
   "source": [
    "### Jakým způsobem zjistím počet prvků v kolekci?\n",
    "Pomocí funkce len()."
   ],
   "metadata": {
    "collapsed": false
   },
   "id": "fc8cea8e67be7d27"
  },
  {
   "cell_type": "code",
   "execution_count": 11,
   "outputs": [
    {
     "name": "stdout",
     "output_type": "stream",
     "text": [
      "10\n"
     ]
    }
   ],
   "source": [
    "example_tuple = (1, 2, 3, 4, 5, 6, 7, 8, 9, 10)\n",
    "print(len(example_tuple))"
   ],
   "metadata": {
    "collapsed": false,
    "ExecuteTime": {
     "end_time": "2023-10-02T12:37:25.160772300Z",
     "start_time": "2023-10-02T12:37:23.033298900Z"
    }
   },
   "id": "2d43af5673c22883"
  },
  {
   "cell_type": "markdown",
   "source": [
    "### Jakymi všemi metodami je možné vložit nový prvek do kolekce a jaké mají tyto metody vstypy?\n",
    "U kolekce Tuple není možné vložit nový prvek."
   ],
   "metadata": {
    "collapsed": false
   },
   "id": "3244d4e61f90feb"
  },
  {
   "cell_type": "markdown",
   "source": [
    "### Jakymi všemi metodami je možné odebrat prvek z kolekce a jaké mají tyto metody vstupy?\n",
    "U kolekce Tuple není možné odebrat prvek."
   ],
   "metadata": {
    "collapsed": false
   },
   "id": "cf364b738e7fa5be"
  },
  {
   "cell_type": "markdown",
   "source": [
    "### Jakymi všemi metodami je možné upravit hodnotu\n",
    "existujícího prvek v kolekci a jaké mají tyto metody\n",
    "vstypy?\n",
    "U kolekce Tuple není možné upravit hodnotu existujícího prvku."
   ],
   "metadata": {
    "collapsed": false
   },
   "id": "451f8d6cd48a314b"
  },
  {
   "cell_type": "markdown",
   "source": [
    "### Jakymi všemi metodami je možné ověřit jestli kolekce obsahuje nějaký prvek?\n",
    "Pro určení konkrétního prvku v kolekci se používá operátor in.\n",
    "Pro učení zda kolekce obsahuje vůbec nějaký prvek se používá funkce len()."
   ],
   "metadata": {
    "collapsed": false
   },
   "id": "f5f8a3269515f64e"
  },
  {
   "cell_type": "code",
   "execution_count": 12,
   "outputs": [
    {
     "name": "stdout",
     "output_type": "stream",
     "text": [
      "True\n",
      "10\n"
     ]
    }
   ],
   "source": [
    "example_tuple = (1, 2, 3, 4, 5, 6, 7, 8, 9, 10)\n",
    "print(1 in example_tuple)\n",
    "print(len(example_tuple))"
   ],
   "metadata": {
    "collapsed": false,
    "ExecuteTime": {
     "end_time": "2023-10-02T12:37:25.178780700Z",
     "start_time": "2023-10-02T12:37:23.099301Z"
    }
   },
   "id": "26ac95925dfa899c"
  },
  {
   "cell_type": "markdown",
   "source": [
    "### Jakymi všemi metodami je možné získat hodnotu v\n",
    "pořadí třetího prvku v kolekci?\n",
    "Pomocí indexu."
   ],
   "metadata": {
    "collapsed": false
   },
   "id": "f651bd8eb2988fe1"
  },
  {
   "cell_type": "code",
   "execution_count": 13,
   "outputs": [
    {
     "name": "stdout",
     "output_type": "stream",
     "text": [
      "3\n"
     ]
    }
   ],
   "source": [
    "example_tuple = (1, 2, 3, 4, 5, 6, 7, 8, 9, 10)\n",
    "print(example_tuple[2])"
   ],
   "metadata": {
    "collapsed": false,
    "ExecuteTime": {
     "end_time": "2023-10-02T12:37:25.196808300Z",
     "start_time": "2023-10-02T12:37:23.119304400Z"
    }
   },
   "id": "c52e68121ecca8da"
  },
  {
   "cell_type": "markdown",
   "source": [],
   "metadata": {
    "collapsed": false
   },
   "id": "7145b90b3a94c967"
  },
  {
   "cell_type": "markdown",
   "source": [
    "# List\n",
    "### Je zachovano poradi ve kterem jsou prvky kolekce vkladany?\n",
    "Ano, je zachováno pořadí ve kterém jsou prvky kolekce vkládány."
   ],
   "metadata": {
    "collapsed": false
   },
   "id": "4413d14130f49b2b"
  },
  {
   "cell_type": "code",
   "execution_count": 14,
   "outputs": [
    {
     "name": "stdout",
     "output_type": "stream",
     "text": [
      "[5, 1, 2, 3]\n"
     ]
    }
   ],
   "source": [
    "example_list = [5, 1, 2, 3]\n",
    "print(example_list)"
   ],
   "metadata": {
    "collapsed": false,
    "ExecuteTime": {
     "end_time": "2023-10-02T12:37:25.213810100Z",
     "start_time": "2023-10-02T12:37:23.155302200Z"
    }
   },
   "id": "ed0cf91e5be2e36d"
  },
  {
   "cell_type": "markdown",
   "source": [
    "### Jsou hodnoty ulozene v serazenem poradi od nejmensiho po nejvetsi?\n",
    "Ne, hodnoty nejsou uloženy v seřazeném pořadí."
   ],
   "metadata": {
    "collapsed": false
   },
   "id": "454628993d92b75"
  },
  {
   "cell_type": "code",
   "execution_count": 15,
   "outputs": [
    {
     "name": "stdout",
     "output_type": "stream",
     "text": [
      "[5, 1, 2, 3]\n"
     ]
    }
   ],
   "source": [
    "example_list = [5, 1, 2, 3]\n",
    "print(example_list)"
   ],
   "metadata": {
    "collapsed": false,
    "ExecuteTime": {
     "end_time": "2023-10-02T12:37:25.220807200Z",
     "start_time": "2023-10-02T12:37:23.182302100Z"
    }
   },
   "id": "ae5c90a8082ecd80"
  },
  {
   "cell_type": "markdown",
   "source": [
    "### Používá se pro přístup k hodnotám index? (Index je systémem vygenerované číslo 0,1,2.. )\n",
    "Ano, index se používá pro přístup k hodnotám."
   ],
   "metadata": {
    "collapsed": false
   },
   "id": "bc0df12bcb9603e9"
  },
  {
   "cell_type": "code",
   "execution_count": 16,
   "outputs": [
    {
     "name": "stdout",
     "output_type": "stream",
     "text": [
      "5\n"
     ]
    }
   ],
   "source": [
    "example_list = [5, 1, 2, 3]\n",
    "print(example_list[0])"
   ],
   "metadata": {
    "collapsed": false,
    "ExecuteTime": {
     "end_time": "2023-10-02T12:37:25.237803200Z",
     "start_time": "2023-10-02T12:37:23.212301700Z"
    }
   },
   "id": "b064c6d3de7dd1ee"
  },
  {
   "cell_type": "markdown",
   "source": [
    "### Je mozne ulozit dva stejné prvky?\n",
    "Ano, je možné uložit dva stejné prvky."
   ],
   "metadata": {
    "collapsed": false
   },
   "id": "ea453f184087cf46"
  },
  {
   "cell_type": "code",
   "execution_count": 17,
   "outputs": [
    {
     "name": "stdout",
     "output_type": "stream",
     "text": [
      "[1, 1, 1, 1, 1, 1, 1, 1, 1, 1]\n"
     ]
    }
   ],
   "source": [
    "example_list = [1, 1, 1, 1, 1, 1, 1, 1, 1, 1]\n",
    "print(example_list)"
   ],
   "metadata": {
    "collapsed": false,
    "ExecuteTime": {
     "end_time": "2023-10-02T12:37:25.246806800Z",
     "start_time": "2023-10-02T12:37:23.226303900Z"
    }
   },
   "id": "867c1e8faabd78e3"
  },
  {
   "cell_type": "markdown",
   "source": [
    "### Je mozne vlozit hodnotu None?\n",
    "Ano, je možné vložit hodnotu None."
   ],
   "metadata": {
    "collapsed": false
   },
   "id": "91678772ac14d7b9"
  },
  {
   "cell_type": "code",
   "execution_count": 18,
   "outputs": [
    {
     "name": "stdout",
     "output_type": "stream",
     "text": [
      "[None, None, None]\n"
     ]
    }
   ],
   "source": [
    "example_list = [None, None, None]\n",
    "print(example_list)"
   ],
   "metadata": {
    "collapsed": false,
    "ExecuteTime": {
     "end_time": "2023-10-02T12:37:25.263800900Z",
     "start_time": "2023-10-02T12:37:23.245297400Z"
    }
   },
   "id": "972aa4160cda7468"
  },
  {
   "cell_type": "markdown",
   "source": [
    "### Je možné kolekce vnořovat, tedy vložit jako prvek kolekce další kolekci s několika prvky?\n",
    "Ano, je možné kolekce vnořovat."
   ],
   "metadata": {
    "collapsed": false
   },
   "id": "93b1be081563e25"
  },
  {
   "cell_type": "code",
   "execution_count": 19,
   "outputs": [
    {
     "name": "stdout",
     "output_type": "stream",
     "text": [
      "[1, 2, 3, 4, 5, 6, 7, 8, 9, 10]\n"
     ]
    }
   ],
   "source": [
    "example_list = [1, 2, 3, 4, 5, 6, 7, 8, 9, 10], [1, 2, 3, 4, 5, 6, 7, 8, 9, 10]\n",
    "print(example_list[0])"
   ],
   "metadata": {
    "collapsed": false,
    "ExecuteTime": {
     "end_time": "2023-10-02T12:37:25.287800900Z",
     "start_time": "2023-10-02T12:37:23.261304100Z"
    }
   },
   "id": "809ff4545d1e084"
  },
  {
   "cell_type": "markdown",
   "source": [
    "### Je možné za běhu programu změnit velikost kolekce?\n",
    "Ano, je možné za běhu programu změnit velikost kolekce."
   ],
   "metadata": {
    "collapsed": false
   },
   "id": "27efbded0f37cd51"
  },
  {
   "cell_type": "code",
   "execution_count": 20,
   "outputs": [
    {
     "name": "stdout",
     "output_type": "stream",
     "text": [
      "10\n",
      "11\n"
     ]
    }
   ],
   "source": [
    "example_list = [1, 2, 3, 4, 5, 6, 7, 8, 9, 10]\n",
    "print(len(example_list))\n",
    "example_list.append(11)\n",
    "print(len(example_list))"
   ],
   "metadata": {
    "collapsed": false,
    "ExecuteTime": {
     "end_time": "2023-10-02T12:37:25.307799400Z",
     "start_time": "2023-10-02T12:37:23.284316500Z"
    }
   },
   "id": "ea88b2f8e9d7fc99"
  },
  {
   "cell_type": "markdown",
   "source": [
    "### Jakým způsobem zjistím počet prvků v kolekci?\n",
    "Pomocí funkce len()."
   ],
   "metadata": {
    "collapsed": false
   },
   "id": "7eddb0b2dfb4e85a"
  },
  {
   "cell_type": "code",
   "execution_count": 21,
   "outputs": [
    {
     "name": "stdout",
     "output_type": "stream",
     "text": [
      "10\n"
     ]
    }
   ],
   "source": [
    "example_list = [1, 2, 3, 4, 5, 6, 7, 8, 9, 10]\n",
    "print(len(example_list))"
   ],
   "metadata": {
    "collapsed": false,
    "ExecuteTime": {
     "end_time": "2023-10-02T12:37:25.307799400Z",
     "start_time": "2023-10-02T12:37:23.302297Z"
    }
   },
   "id": "ab0e4efd2353625"
  },
  {
   "cell_type": "markdown",
   "source": [
    "### Jakymi všemi metodami je možné vložit nový prvek do kolekce a jaké mají tyto metody vstypy?\n",
    "Pomocí funkce append() a insert()."
   ],
   "metadata": {
    "collapsed": false
   },
   "id": "6d718ca41be484ae"
  },
  {
   "cell_type": "code",
   "execution_count": 22,
   "outputs": [
    {
     "name": "stdout",
     "output_type": "stream",
     "text": [
      "['a', 'b', 'c', 'd', 'e']\n",
      "['a', 'b', 'c', 'd', 'e', 'f']\n",
      "['z', 'a', 'b', 'c', 'd', 'e', 'f']\n"
     ]
    }
   ],
   "source": [
    "example_list = [\"a\", \"b\", \"c\", \"d\", \"e\"]\n",
    "print(example_list)\n",
    "example_list.append(\"f\")\n",
    "print(example_list)\n",
    "example_list.insert(0, \"z\")\n",
    "print(example_list)"
   ],
   "metadata": {
    "collapsed": false,
    "ExecuteTime": {
     "end_time": "2023-10-02T12:37:25.325809600Z",
     "start_time": "2023-10-02T12:37:23.323303200Z"
    }
   },
   "id": "57221d655fbbb676"
  },
  {
   "cell_type": "markdown",
   "source": [
    "### Jakymi všemi metodami je možné odebrat prvek z kolekce a jaké mají tyto metody vstupy?\n",
    "Pomocí funkce pop() a remove()."
   ],
   "metadata": {
    "collapsed": false
   },
   "id": "73dba883d0e401c1"
  },
  {
   "cell_type": "code",
   "execution_count": 23,
   "outputs": [
    {
     "name": "stdout",
     "output_type": "stream",
     "text": [
      "['a', 'b', 'c', 'd', 'e']\n",
      "['b', 'c', 'd', 'e']\n",
      "['b', 'c', 'd']\n"
     ]
    }
   ],
   "source": [
    "example_list = [\"a\", \"b\", \"c\", \"d\", \"e\"]\n",
    "print(example_list)\n",
    "example_list.pop(0)\n",
    "print(example_list)\n",
    "example_list.remove(\"e\")\n",
    "print(example_list)"
   ],
   "metadata": {
    "collapsed": false,
    "ExecuteTime": {
     "end_time": "2023-10-02T12:37:25.343823300Z",
     "start_time": "2023-10-02T12:37:23.350307500Z"
    }
   },
   "id": "3354bd52109c41aa"
  },
  {
   "cell_type": "markdown",
   "source": [
    "### Jakymi všemi metodami je možné upravit hodnotu existujícího prvek v kolekci a jaké mají tyto metody vstypy?\n",
    "Pomocí indexu."
   ],
   "metadata": {
    "collapsed": false
   },
   "id": "f98092aba2f3883"
  },
  {
   "cell_type": "code",
   "execution_count": 24,
   "outputs": [
    {
     "name": "stdout",
     "output_type": "stream",
     "text": [
      "['a', 'b', 'c', 'd', 'e']\n",
      "['z', 'b', 'c', 'd', 'e']\n"
     ]
    }
   ],
   "source": [
    "example_list = [\"a\", \"b\", \"c\", \"d\", \"e\"]\n",
    "print(example_list)\n",
    "example_list[0] = \"z\"\n",
    "print(example_list)"
   ],
   "metadata": {
    "collapsed": false,
    "ExecuteTime": {
     "end_time": "2023-10-02T12:37:25.351774900Z",
     "start_time": "2023-10-02T12:37:23.367301100Z"
    }
   },
   "id": "878c2432aeb28e95"
  },
  {
   "cell_type": "markdown",
   "source": [
    "### Jakymi všemi metodami je možné ověřit jestli kolekce obsahuje nějaký prvek?\n",
    "Pro určení konkrétního prvku v kolekci se používá operátor in.\n",
    "Pro učení zda kolekce obsahuje vůbec nějaký prvek se používá funkce len()."
   ],
   "metadata": {
    "collapsed": false
   },
   "id": "bc387195e157eb7b"
  },
  {
   "cell_type": "code",
   "execution_count": 25,
   "outputs": [
    {
     "name": "stdout",
     "output_type": "stream",
     "text": [
      "True\n",
      "5\n"
     ]
    }
   ],
   "source": [
    "example_list = [\"a\", \"b\", \"c\", \"d\", \"e\"]\n",
    "print(\"a\" in example_list)\n",
    "print(len(example_list))"
   ],
   "metadata": {
    "collapsed": false,
    "ExecuteTime": {
     "end_time": "2023-10-02T12:37:25.389820300Z",
     "start_time": "2023-10-02T12:37:23.391301900Z"
    }
   },
   "id": "6c29c56729dc4873"
  },
  {
   "cell_type": "markdown",
   "source": [
    "### Jakymi všemi metodami je možné získat hodnotu v pořadí třetího prvku v kolekci?\n",
    "Pomocí indexu."
   ],
   "metadata": {
    "collapsed": false
   },
   "id": "b175c8f1dfc993c4"
  },
  {
   "cell_type": "code",
   "execution_count": 26,
   "outputs": [
    {
     "name": "stdout",
     "output_type": "stream",
     "text": [
      "c\n"
     ]
    }
   ],
   "source": [
    "example_list = [\"a\", \"b\", \"c\", \"d\", \"e\"]\n",
    "print(example_list[2])"
   ],
   "metadata": {
    "collapsed": false,
    "ExecuteTime": {
     "end_time": "2023-10-02T12:37:25.392774300Z",
     "start_time": "2023-10-02T12:37:23.412300600Z"
    }
   },
   "id": "f3667da1a1f78904"
  },
  {
   "cell_type": "markdown",
   "source": [
    "# Set\n",
    "### Je zachovano poradi ve kterem jsou prvky kolekce vkladany?\n",
    "Ne, není zachováno pořadí ve kterém jsou prvky vkládány."
   ],
   "metadata": {
    "collapsed": false
   },
   "id": "c5ebd85906977486"
  },
  {
   "cell_type": "code",
   "execution_count": 27,
   "outputs": [
    {
     "name": "stdout",
     "output_type": "stream",
     "text": [
      "{1, 2, 3, 4, 5}\n"
     ]
    }
   ],
   "source": [
    "example_set = {5, 1, 2, 4 ,3}\n",
    "print(example_set)"
   ],
   "metadata": {
    "collapsed": false,
    "ExecuteTime": {
     "end_time": "2023-10-02T12:37:25.416778300Z",
     "start_time": "2023-10-02T12:37:23.435306700Z"
    }
   },
   "id": "3b8db5bd03cdb2a"
  },
  {
   "cell_type": "markdown",
   "source": [
    "### Jsou hodnoty ulozene v serazenem poradi od nejmensiho po nejvetsi?\n",
    "Ne, hodnoty nejsou uloženy v seřazeném pořadí."
   ],
   "metadata": {
    "collapsed": false
   },
   "id": "bc96570187d7c9b8"
  },
  {
   "cell_type": "code",
   "execution_count": 28,
   "outputs": [
    {
     "name": "stdout",
     "output_type": "stream",
     "text": [
      "{1, 2, 3, 4, 5}\n"
     ]
    }
   ],
   "source": [
    "example_set = {5, 1, 2, 4 ,3}\n",
    "print(example_set)"
   ],
   "metadata": {
    "collapsed": false,
    "ExecuteTime": {
     "end_time": "2023-10-02T12:37:25.416778300Z",
     "start_time": "2023-10-02T12:37:23.457298800Z"
    }
   },
   "id": "db973b474eb9fcf3"
  },
  {
   "cell_type": "markdown",
   "source": [
    "### Používá se pro přístup k hodnotám index? (Index je systémem vygenerované číslo 0,1,2.. )\n",
    "Ne, index se nepoužívá pro přístup k hodnotám."
   ],
   "metadata": {
    "collapsed": false
   },
   "id": "e6d647d0a89934f1"
  },
  {
   "cell_type": "markdown",
   "source": [
    "### Je mozne ulozit dva stejné prvky?\n",
    "Ne, není možné uložit dva stejné prvky."
   ],
   "metadata": {
    "collapsed": false
   },
   "id": "d94ea23ac0d48ab9"
  },
  {
   "cell_type": "code",
   "execution_count": 29,
   "outputs": [
    {
     "name": "stdout",
     "output_type": "stream",
     "text": [
      "{1}\n"
     ]
    }
   ],
   "source": [
    "example_set = {1, 1, 1, 1, 1, 1, 1, 1, 1, 1}\n",
    "print(example_set)"
   ],
   "metadata": {
    "collapsed": false,
    "ExecuteTime": {
     "end_time": "2023-10-02T12:37:25.435777100Z",
     "start_time": "2023-10-02T12:37:23.479302700Z"
    }
   },
   "id": "1b60c42a80ee6514"
  },
  {
   "cell_type": "markdown",
   "source": [
    "### Je mozne vlozit hodnotu None?\n",
    "Ano, je možné vložit hodnotu None."
   ],
   "metadata": {
    "collapsed": false
   },
   "id": "cf07608f394a8113"
  },
  {
   "cell_type": "code",
   "execution_count": 30,
   "outputs": [
    {
     "name": "stdout",
     "output_type": "stream",
     "text": [
      "{4, 5, 6, 7, 8, 9, 10, None}\n"
     ]
    }
   ],
   "source": [
    "example_set = {None, 4, 5, 6, 7, 8, 9, 10}\n",
    "print(example_set)"
   ],
   "metadata": {
    "collapsed": false,
    "ExecuteTime": {
     "end_time": "2023-10-02T12:37:25.468931700Z",
     "start_time": "2023-10-02T12:37:23.502301500Z"
    }
   },
   "id": "e27af93447c1992f"
  },
  {
   "cell_type": "markdown",
   "source": [
    "### Je možné kolekce vnořovat, tedy vložit jako prvek kolekce další kolekci s několika prvky?\n",
    "Ano, je možné kolekce vnořovat."
   ],
   "metadata": {
    "collapsed": false
   },
   "id": "b3b498df57479287"
  },
  {
   "cell_type": "code",
   "execution_count": 31,
   "outputs": [
    {
     "name": "stdout",
     "output_type": "stream",
     "text": [
      "({1, 2, 3, 4, 5, 6, 7, 8, 9, 10}, {1, 2, 3, 4, 5, 6, 7, 8, 9, 10})\n"
     ]
    }
   ],
   "source": [
    "example_set = {1, 2, 3, 4, 5, 6, 7, 8, 9, 10}, {1, 2, 3, 4, 5, 6, 7, 8, 9, 10}\n",
    "print(example_set)"
   ],
   "metadata": {
    "collapsed": false,
    "ExecuteTime": {
     "end_time": "2023-10-02T12:37:25.469939300Z",
     "start_time": "2023-10-02T12:37:23.522297300Z"
    }
   },
   "id": "21706c1f44ebf24d"
  },
  {
   "cell_type": "markdown",
   "source": [
    "### Je možné za běhu programu změnit velikost kolekce?\n",
    "Ano, je možné za běhu programu změnit velikost kolekce."
   ],
   "metadata": {
    "collapsed": false
   },
   "id": "344cc81101531398"
  },
  {
   "cell_type": "code",
   "execution_count": 32,
   "outputs": [
    {
     "name": "stdout",
     "output_type": "stream",
     "text": [
      "10\n",
      "11\n"
     ]
    }
   ],
   "source": [
    "example_set = {1, 2, 3, 4, 5, 6, 7, 8, 9, 10}\n",
    "print(len(example_set))\n",
    "example_set.add(11)\n",
    "print(len(example_set))"
   ],
   "metadata": {
    "collapsed": false,
    "ExecuteTime": {
     "end_time": "2023-10-02T12:37:25.498932100Z",
     "start_time": "2023-10-02T12:37:23.539297100Z"
    }
   },
   "id": "8d68f2b021fcff05"
  },
  {
   "cell_type": "markdown",
   "source": [
    "### Jakým způsobem zjistím počet prvků v kolekci?\n",
    "Pomocí funkce len()."
   ],
   "metadata": {
    "collapsed": false
   },
   "id": "270158c1f76ffac"
  },
  {
   "cell_type": "code",
   "execution_count": 33,
   "outputs": [
    {
     "name": "stdout",
     "output_type": "stream",
     "text": [
      "10\n"
     ]
    }
   ],
   "source": [
    "example_set = {1, 2, 3, 4, 5, 6, 7, 8, 9, 10}\n",
    "print(len(example_set))"
   ],
   "metadata": {
    "collapsed": false,
    "ExecuteTime": {
     "end_time": "2023-10-02T12:37:25.498932100Z",
     "start_time": "2023-10-02T12:37:23.554297300Z"
    }
   },
   "id": "1932f0f6442d7cba"
  },
  {
   "cell_type": "markdown",
   "source": [
    "### Jakymi všemi metodami je možné vložit nový prvek do kolekce a jaké mají tyto metody vstypy?\n",
    "Pomocí funkce add()."
   ],
   "metadata": {
    "collapsed": false
   },
   "id": "5c5615216a2ebe0c"
  },
  {
   "cell_type": "code",
   "execution_count": 34,
   "outputs": [
    {
     "name": "stdout",
     "output_type": "stream",
     "text": [
      "{1, 2, 3, 4, 5, 6, 7, 8, 9, 10}\n",
      "{1, 2, 3, 4, 5, 6, 7, 8, 9, 10, 11}\n"
     ]
    }
   ],
   "source": [
    "example_set = {1, 2, 3, 4, 5, 6, 7, 8, 9, 10}\n",
    "print(example_set)\n",
    "example_set.add(11)\n",
    "print(example_set)"
   ],
   "metadata": {
    "collapsed": false,
    "ExecuteTime": {
     "end_time": "2023-10-02T12:37:25.516966300Z",
     "start_time": "2023-10-02T12:37:23.576305400Z"
    }
   },
   "id": "999c325f86db921c"
  },
  {
   "cell_type": "markdown",
   "source": [
    "### Jakymi všemi metodami je možné odebrat prvek z kolekce a jaké mají tyto metody vstupy?\n",
    "Pomocí funkce remove()."
   ],
   "metadata": {
    "collapsed": false
   },
   "id": "af4a4f7203db555a"
  },
  {
   "cell_type": "code",
   "execution_count": 35,
   "outputs": [
    {
     "name": "stdout",
     "output_type": "stream",
     "text": [
      "{1, 2, 3, 4, 5, 6, 7, 8, 9, 10}\n",
      "{1, 2, 3, 4, 5, 6, 7, 8, 9}\n"
     ]
    }
   ],
   "source": [
    "example_set = {1, 2, 3, 4, 5, 6, 7, 8, 9, 10}\n",
    "print(example_set)\n",
    "example_set.remove(10)\n",
    "print(example_set)"
   ],
   "metadata": {
    "collapsed": false,
    "ExecuteTime": {
     "end_time": "2023-10-02T12:37:25.535944400Z",
     "start_time": "2023-10-02T12:37:23.599304600Z"
    }
   },
   "id": "24fa321aee612f44"
  },
  {
   "cell_type": "markdown",
   "source": [
    "### Jakymi všemi metodami je možné upravit hodnotu existujícího prvek v kolekci a jaké mají tyto metody vstypy?\n",
    "Upravit již přidaný prvek nelze. Jediné řešení je ho smazat a přidat znovu upravený."
   ],
   "metadata": {
    "collapsed": false
   },
   "id": "ccf36c39fb11d0ef"
  },
  {
   "cell_type": "markdown",
   "source": [
    "### Jakymi všemi metodami je možné ověřit jestli kolekce obsahuje nějaký prvek?\n",
    "Pro určení konkrétního prvku v kolekci se používá operátor in.\n",
    "Pro učení zda kolekce obsahuje vůbec nějaký prvek se používá funkce len()."
   ],
   "metadata": {
    "collapsed": false
   },
   "id": "803a1a65cd355a1c"
  },
  {
   "cell_type": "code",
   "execution_count": 36,
   "outputs": [
    {
     "name": "stdout",
     "output_type": "stream",
     "text": [
      "True\n",
      "10\n"
     ]
    }
   ],
   "source": [
    "example_set = {1, 2, 3, 4, 5, 6, 7, 8, 9, 10}\n",
    "print(1 in example_set)\n",
    "print(len(example_set))"
   ],
   "metadata": {
    "collapsed": false,
    "ExecuteTime": {
     "end_time": "2023-10-02T12:37:25.555969400Z",
     "start_time": "2023-10-02T12:37:23.642305600Z"
    }
   },
   "id": "d372be0bda5072af"
  },
  {
   "cell_type": "markdown",
   "source": [
    "### Jakymi všemi metodami je možné získat hodnotu v pořadí třetího prvku v kolekci?\n",
    "Nelze"
   ],
   "metadata": {
    "collapsed": false
   },
   "id": "d6f32a8493466376"
  },
  {
   "cell_type": "markdown",
   "source": [
    "# Dictionary\n",
    "### Je zachovano poradi ve kterem jsou prvky kolekce vkladany?\n",
    "Ne, není zachováno pořadí ve kterém jsou prvky vkládány."
   ],
   "metadata": {
    "collapsed": false
   },
   "id": "13cc9ea2d8c28ea0"
  },
  {
   "cell_type": "markdown",
   "source": [
    "### Jsou hodnoty ulozene v serazenem poradi od nejmensiho po nejvetsi?\n",
    "Ano, hodnoty jsou uloženy v seřazeném pořadí."
   ],
   "metadata": {
    "collapsed": false
   },
   "id": "48217d721bbde833"
  },
  {
   "cell_type": "code",
   "execution_count": 37,
   "outputs": [
    {
     "name": "stdout",
     "output_type": "stream",
     "text": [
      "{1: 'a', 2: 'b', 3: 'c', 4: 'd', 5: 'e'}\n"
     ]
    }
   ],
   "source": [
    "example_dict = {1: \"a\", 2: \"b\", 3: \"c\", 4: \"d\", 5: \"e\"}\n",
    "print(example_dict)"
   ],
   "metadata": {
    "collapsed": false,
    "ExecuteTime": {
     "end_time": "2023-10-02T12:37:25.574968900Z",
     "start_time": "2023-10-02T12:37:23.680300500Z"
    }
   },
   "id": "752ccfee3a87c273"
  },
  {
   "cell_type": "markdown",
   "source": [
    "### Používá se pro přístup k hodnotám index? (Index je systémem vygenerované číslo 0,1,2.. )\n",
    "Ne, index se nepoužívá pro přístup k hodnotám."
   ],
   "metadata": {
    "collapsed": false
   },
   "id": "39e03c374cf92d73"
  },
  {
   "cell_type": "markdown",
   "source": [
    "### Je mozne ulozit dva stejné prvky?\n",
    "Ne, není možné uložit dva stejné prvky."
   ],
   "metadata": {
    "collapsed": false
   },
   "id": "3e145052a009c974"
  },
  {
   "cell_type": "markdown",
   "source": [
    "### Je mozne vlozit hodnotu None?\n",
    "Ano, je možné vložit hodnotu None."
   ],
   "metadata": {
    "collapsed": false
   },
   "id": "d29a072df079999b"
  },
  {
   "cell_type": "code",
   "execution_count": 38,
   "outputs": [
    {
     "name": "stdout",
     "output_type": "stream",
     "text": [
      "{None: 'a', 2: 'b', 3: 'c', 4: 'd', 5: 'e'}\n"
     ]
    }
   ],
   "source": [
    "example_dict = {None: \"a\", 2: \"b\", 3: \"c\", 4: \"d\", 5: \"e\"}\n",
    "print(example_dict)"
   ],
   "metadata": {
    "collapsed": false,
    "ExecuteTime": {
     "end_time": "2023-10-02T12:37:25.582947Z",
     "start_time": "2023-10-02T12:37:23.711301700Z"
    }
   },
   "id": "b4d31677204ac98a"
  },
  {
   "cell_type": "markdown",
   "source": [
    "### Je možné kolekce vnořovat, tedy vložit jako prvek kolekce další kolekci s několika prvky?\n",
    "Ano, je možné kolekce vnořovat."
   ],
   "metadata": {
    "collapsed": false
   },
   "id": "eaa24e8ca6afa4f4"
  },
  {
   "cell_type": "code",
   "execution_count": 39,
   "outputs": [
    {
     "name": "stdout",
     "output_type": "stream",
     "text": [
      "{1: 'a', 2: 'b', 3: 'c', 4: 'd', 5: 'e'}\n"
     ]
    }
   ],
   "source": [
    "example_dict = {\"second_dict\": {1: \"a\", 2: \"b\", 3: \"c\", 4: \"d\", 5: \"e\"}}\n",
    "print(example_dict[\"second_dict\"])"
   ],
   "metadata": {
    "collapsed": false,
    "ExecuteTime": {
     "end_time": "2023-10-02T12:37:25.600932800Z",
     "start_time": "2023-10-02T12:37:23.728304400Z"
    }
   },
   "id": "ee765c98d9935d56"
  },
  {
   "cell_type": "markdown",
   "source": [
    "### Je možné za běhu programu změnit velikost kolekce?\n",
    "Ano, je možné za běhu programu změnit velikost kolekce."
   ],
   "metadata": {
    "collapsed": false
   },
   "id": "6bb29424fb1cbb42"
  },
  {
   "cell_type": "code",
   "execution_count": 40,
   "outputs": [
    {
     "name": "stdout",
     "output_type": "stream",
     "text": [
      "5\n",
      "6\n"
     ]
    }
   ],
   "source": [
    "example_dict = {1: \"a\", 2: \"b\", 3: \"c\", 4: \"d\", 5: \"e\"}\n",
    "print(len(example_dict))\n",
    "example_dict[6] = \"f\"\n",
    "print(len(example_dict))"
   ],
   "metadata": {
    "collapsed": false,
    "ExecuteTime": {
     "end_time": "2023-10-02T12:37:25.617932900Z",
     "start_time": "2023-10-02T12:37:23.742300700Z"
    }
   },
   "id": "4723c81d7ca32cf"
  },
  {
   "cell_type": "markdown",
   "source": [
    "### Jakým způsobem zjistím počet prvků v kolekci?\n",
    "Pomocí funkce len()."
   ],
   "metadata": {
    "collapsed": false
   },
   "id": "d2e3384c314ece06"
  },
  {
   "cell_type": "code",
   "execution_count": 41,
   "outputs": [
    {
     "name": "stdout",
     "output_type": "stream",
     "text": [
      "5\n"
     ]
    }
   ],
   "source": [
    "example_dict = {1: \"a\", 2: \"b\", 3: \"c\", 4: \"d\", 5: \"e\"}\n",
    "print(len(example_dict))"
   ],
   "metadata": {
    "collapsed": false,
    "ExecuteTime": {
     "end_time": "2023-10-02T12:37:25.633932500Z",
     "start_time": "2023-10-02T12:37:23.771302200Z"
    }
   },
   "id": "b310f618d3f9aa31"
  },
  {
   "cell_type": "markdown",
   "source": [
    "### Jakymi všemi metodami je možné vložit nový prvek do kolekce a jaké mají tyto metody vstypy?\n",
    "Skrze operátor []."
   ],
   "metadata": {
    "collapsed": false
   },
   "id": "d596d31eeca43e1d"
  },
  {
   "cell_type": "code",
   "execution_count": 42,
   "outputs": [
    {
     "name": "stdout",
     "output_type": "stream",
     "text": [
      "{1: 'a', 2: 'b', 3: 'c', 4: 'd', 5: 'e'}\n",
      "{1: 'a', 2: 'b', 3: 'c', 4: 'd', 5: 'e', 6: 'f'}\n"
     ]
    }
   ],
   "source": [
    "example_dict = {1: \"a\", 2: \"b\", 3: \"c\", 4: \"d\", 5: \"e\"}\n",
    "print(example_dict)\n",
    "example_dict[6] = \"f\"\n",
    "print(example_dict)"
   ],
   "metadata": {
    "collapsed": false,
    "ExecuteTime": {
     "end_time": "2023-10-02T12:37:25.642933Z",
     "start_time": "2023-10-02T12:37:23.797300900Z"
    }
   },
   "id": "199a77de6cc83fb7"
  },
  {
   "cell_type": "markdown",
   "source": [
    "### Jakymi všemi metodami je možné odebrat prvek z kolekce a jaké mají tyto metody vstupy?\n",
    "Pomocí funkce pop()."
   ],
   "metadata": {
    "collapsed": false
   },
   "id": "4424924602c7ec3c"
  },
  {
   "cell_type": "code",
   "execution_count": 43,
   "outputs": [
    {
     "name": "stdout",
     "output_type": "stream",
     "text": [
      "{1: 'a', 2: 'b', 3: 'c', 4: 'd', 5: 'e'}\n",
      "{1: 'a', 2: 'b', 3: 'c', 4: 'd'}\n"
     ]
    }
   ],
   "source": [
    "example_dict = {1: \"a\", 2: \"b\", 3: \"c\", 4: \"d\", 5: \"e\"}\n",
    "print(example_dict)\n",
    "example_dict.pop(5)\n",
    "print(example_dict)"
   ],
   "metadata": {
    "collapsed": false,
    "ExecuteTime": {
     "end_time": "2023-10-02T12:37:25.665962500Z",
     "start_time": "2023-10-02T12:37:23.826300800Z"
    }
   },
   "id": "af365d0a46f22017"
  },
  {
   "cell_type": "markdown",
   "source": [
    "### Jakymi všemi metodami je možné upravit hodnotu existujícího prvek v kolekci a jaké mají tyto metody vstypy?\n",
    "Pomocí operátoru []."
   ],
   "metadata": {
    "collapsed": false
   },
   "id": "497841513cd27244"
  },
  {
   "cell_type": "code",
   "execution_count": 44,
   "outputs": [
    {
     "name": "stdout",
     "output_type": "stream",
     "text": [
      "{1: 'a', 2: 'b', 3: 'c', 4: 'd', 5: 'e'}\n",
      "{1: 'a', 2: 'b', 3: 'c', 4: 'd', 5: 'f'}\n"
     ]
    }
   ],
   "source": [
    "example_dict = {1: \"a\", 2: \"b\", 3: \"c\", 4: \"d\", 5: \"e\"}\n",
    "print(example_dict)\n",
    "example_dict[5] = \"f\"\n",
    "print(example_dict)"
   ],
   "metadata": {
    "collapsed": false,
    "ExecuteTime": {
     "end_time": "2023-10-02T12:37:25.681970700Z",
     "start_time": "2023-10-02T12:37:23.849298400Z"
    }
   },
   "id": "ec1612865079a5d"
  },
  {
   "cell_type": "markdown",
   "source": [
    "### Jakymi všemi metodami je možné ověřit jestli kolekce obsahuje nějaký prvek?\n",
    "Pro určení konkrétního prvku v kolekci se používá operátor in.\n",
    "Pro učení zda kolekce obsahuje vůbec nějaký prvek se používá funkce len()."
   ],
   "metadata": {
    "collapsed": false
   },
   "id": "12bcadc610be1cd"
  },
  {
   "cell_type": "code",
   "execution_count": 45,
   "outputs": [
    {
     "name": "stdout",
     "output_type": "stream",
     "text": [
      "True\n",
      "5\n"
     ]
    }
   ],
   "source": [
    "example_dict = {1: \"a\", 2: \"b\", 3: \"c\", 4: \"d\", 5: \"e\"}\n",
    "print(1 in example_dict)\n",
    "print(len(example_dict))"
   ],
   "metadata": {
    "collapsed": false,
    "ExecuteTime": {
     "end_time": "2023-10-02T12:37:25.682962600Z",
     "start_time": "2023-10-02T12:37:23.867449200Z"
    }
   },
   "id": "ade7ed2653625487"
  },
  {
   "cell_type": "markdown",
   "source": [
    "### Jakymi všemi metodami je možné získat hodnotu v pořadí třetího prvku v kolekci?\n",
    "Nelze\n"
   ],
   "metadata": {
    "collapsed": false
   },
   "id": "1892fd415d4284d8"
  },
  {
   "cell_type": "markdown",
   "source": [
    "# String\n",
    "### Je zachovano poradi ve kterem jsou prvky kolekce vkladany?\n",
    "Ano, je zachováno pořadí ve kterém jsou prvky vkládány."
   ],
   "metadata": {
    "collapsed": false
   },
   "id": "b6df99988cc8dd0a"
  },
  {
   "cell_type": "markdown",
   "source": [
    "\n",
    "### Jsou hodnoty ulozene v serazenem poradi od nejmensiho po nejvetsi?\n",
    "Ano, hodnoty jsou uloženy v seřazeném pořadí."
   ],
   "metadata": {
    "collapsed": false
   },
   "id": "3a4fde403367d937"
  },
  {
   "cell_type": "code",
   "execution_count": 46,
   "outputs": [
    {
     "name": "stdout",
     "output_type": "stream",
     "text": [
      "abcde\n"
     ]
    }
   ],
   "source": [
    "example_string = \"abcde\"\n",
    "print(example_string)"
   ],
   "metadata": {
    "collapsed": false,
    "ExecuteTime": {
     "end_time": "2023-10-02T12:37:25.699936400Z",
     "start_time": "2023-10-02T12:37:23.965538200Z"
    }
   },
   "id": "b0fe7af3d11d3499"
  },
  {
   "cell_type": "markdown",
   "source": [
    "### Používá se pro přístup k hodnotám index? (Index je systémem vygenerované číslo 0,1,2.. )\n",
    "Ano, index se používá pro přístup k hodnotám."
   ],
   "metadata": {
    "collapsed": false
   },
   "id": "3dab79cc38e95e4c"
  },
  {
   "cell_type": "markdown",
   "source": [
    "### Je mozne ulozit dva stejné prvky?\n",
    "Ano, je možné uložit dva stejné prvky."
   ],
   "metadata": {
    "collapsed": false
   },
   "id": "f50e0692d3f43b83"
  },
  {
   "cell_type": "code",
   "execution_count": 47,
   "outputs": [
    {
     "name": "stdout",
     "output_type": "stream",
     "text": [
      "abbbbcde\n"
     ]
    }
   ],
   "source": [
    "example_string = \"abbbbcde\"\n",
    "print(example_string)"
   ],
   "metadata": {
    "collapsed": false,
    "ExecuteTime": {
     "end_time": "2023-10-02T12:37:25.708945100Z",
     "start_time": "2023-10-02T12:37:24.025538200Z"
    }
   },
   "id": "923f6b81cf052171"
  },
  {
   "cell_type": "markdown",
   "source": [
    "### Je mozne vlozit hodnotu None?\n",
    "Ne, není možné vložit hodnotu None."
   ],
   "metadata": {
    "collapsed": false
   },
   "id": "e968c6f521a3fd04"
  },
  {
   "cell_type": "markdown",
   "source": [
    "### Je možné kolekce vnořovat, tedy vložit jako prvek kolekce další kolekci s několika prvky?\n",
    "Ne, je možné kolekce vnořovat."
   ],
   "metadata": {
    "collapsed": false
   },
   "id": "1e343ad28517e116"
  },
  {
   "cell_type": "code",
   "execution_count": 48,
   "outputs": [
    {
     "ename": "TypeError",
     "evalue": "can only concatenate str (not \"list\") to str",
     "output_type": "error",
     "traceback": [
      "\u001B[1;31m---------------------------------------------------------------------------\u001B[0m",
      "\u001B[1;31mTypeError\u001B[0m                                 Traceback (most recent call last)",
      "Cell \u001B[1;32mIn[48], line 2\u001B[0m\n\u001B[0;32m      1\u001B[0m example_string \u001B[38;5;241m=\u001B[39m \u001B[38;5;124m\"\u001B[39m\u001B[38;5;124mabcde\u001B[39m\u001B[38;5;124m\"\u001B[39m\n\u001B[1;32m----> 2\u001B[0m example_string \u001B[38;5;241m=\u001B[39m \u001B[43mexample_string\u001B[49m\u001B[43m \u001B[49m\u001B[38;5;241;43m+\u001B[39;49m\u001B[43m \u001B[49m\u001B[43m[\u001B[49m\u001B[38;5;241;43m5\u001B[39;49m\u001B[43m]\u001B[49m\n\u001B[0;32m      3\u001B[0m \u001B[38;5;28mprint\u001B[39m(example_string)\n",
      "\u001B[1;31mTypeError\u001B[0m: can only concatenate str (not \"list\") to str"
     ]
    }
   ],
   "source": [
    "example_string = \"abcde\"\n",
    "example_string = example_string + [5]\n",
    "print(example_string)"
   ],
   "metadata": {
    "collapsed": false,
    "ExecuteTime": {
     "end_time": "2023-10-02T12:37:25.741972400Z",
     "start_time": "2023-10-02T12:37:24.076986400Z"
    }
   },
   "id": "acf36d7e54117b02"
  },
  {
   "cell_type": "markdown",
   "source": [
    "### Je možné za běhu programu změnit velikost kolekce?\n",
    "Ne, není možné za běhu programu změnit velikost kolekce.\n",
    "Vytvoří se nový string"
   ],
   "metadata": {
    "collapsed": false
   },
   "id": "46d1cc683e1714a5"
  },
  {
   "cell_type": "code",
   "execution_count": null,
   "outputs": [],
   "source": [
    "example_string = \"abcde\"\n",
    "print(len(example_string))\n",
    "example_string = example_string + \"f\"\n",
    "print(len(example_string))"
   ],
   "metadata": {
    "collapsed": false,
    "ExecuteTime": {
     "start_time": "2023-10-02T12:37:24.124592800Z"
    }
   },
   "id": "2938e839432ce295"
  },
  {
   "cell_type": "markdown",
   "source": [
    "### Jakým způsobem zjistím počet prvků v kolekci?\n",
    "Pomocí funkce len()."
   ],
   "metadata": {
    "collapsed": false
   },
   "id": "6aecde10af79f82f"
  },
  {
   "cell_type": "code",
   "execution_count": 49,
   "outputs": [
    {
     "name": "stdout",
     "output_type": "stream",
     "text": [
      "5\n"
     ]
    }
   ],
   "source": [
    "example_string = \"abcde\"\n",
    "print(len(example_string))"
   ],
   "metadata": {
    "collapsed": false,
    "ExecuteTime": {
     "end_time": "2023-10-02T12:37:25.751967300Z",
     "start_time": "2023-10-02T12:37:24.136590900Z"
    }
   },
   "id": "201bf55054167458"
  },
  {
   "cell_type": "markdown",
   "source": [],
   "metadata": {
    "collapsed": false
   },
   "id": "a395a05c3d76cdbf"
  },
  {
   "cell_type": "markdown",
   "source": [
    "### Jakymi všemi metodami je možné vložit nový prvek do kolekce a jaké mají tyto metody vstypy?\n",
    "Pomocí operátoru +."
   ],
   "metadata": {
    "collapsed": false
   },
   "id": "caf3e17706c1381a"
  },
  {
   "cell_type": "code",
   "execution_count": 50,
   "outputs": [
    {
     "name": "stdout",
     "output_type": "stream",
     "text": [
      "abcde\n",
      "abcdef\n"
     ]
    }
   ],
   "source": [
    "example_string = \"abcde\"\n",
    "print(example_string)\n",
    "example_string = example_string + \"f\"\n",
    "print(example_string)"
   ],
   "metadata": {
    "collapsed": false,
    "ExecuteTime": {
     "end_time": "2023-10-02T12:37:25.767967400Z",
     "start_time": "2023-10-02T12:37:24.174596500Z"
    }
   },
   "id": "6f674293a93b2822"
  },
  {
   "cell_type": "markdown",
   "source": [
    "### Jakymi všemi metodami je možné odebrat prvek z kolekce a jaké mají tyto metody vstupy?\n",
    "Nelze"
   ],
   "metadata": {
    "collapsed": false
   },
   "id": "88e12fa7146a1a1f"
  },
  {
   "cell_type": "code",
   "execution_count": 51,
   "outputs": [
    {
     "name": "stdout",
     "output_type": "stream",
     "text": [
      "abcde\n"
     ]
    },
    {
     "ename": "TypeError",
     "evalue": "'str' object does not support item assignment",
     "output_type": "error",
     "traceback": [
      "\u001B[1;31m---------------------------------------------------------------------------\u001B[0m",
      "\u001B[1;31mTypeError\u001B[0m                                 Traceback (most recent call last)",
      "Cell \u001B[1;32mIn[51], line 3\u001B[0m\n\u001B[0;32m      1\u001B[0m example_string \u001B[38;5;241m=\u001B[39m \u001B[38;5;124m\"\u001B[39m\u001B[38;5;124mabcde\u001B[39m\u001B[38;5;124m\"\u001B[39m\n\u001B[0;32m      2\u001B[0m \u001B[38;5;28mprint\u001B[39m(example_string)\n\u001B[1;32m----> 3\u001B[0m \u001B[43mexample_string\u001B[49m\u001B[43m[\u001B[49m\u001B[38;5;241;43m1\u001B[39;49m\u001B[43m]\u001B[49m \u001B[38;5;241m=\u001B[39m \u001B[38;5;124m\"\u001B[39m\u001B[38;5;124m\"\u001B[39m\n\u001B[0;32m      4\u001B[0m \u001B[38;5;28mprint\u001B[39m(example_string)\n",
      "\u001B[1;31mTypeError\u001B[0m: 'str' object does not support item assignment"
     ]
    }
   ],
   "source": [
    "example_string = \"abcde\"\n",
    "print(example_string)\n",
    "example_string[1] = \"\"\n",
    "print(example_string)"
   ],
   "metadata": {
    "collapsed": false,
    "ExecuteTime": {
     "start_time": "2023-10-02T12:37:24.195587500Z"
    }
   },
   "id": "39fffa0657864d3f"
  },
  {
   "cell_type": "markdown",
   "source": [],
   "metadata": {
    "collapsed": false
   },
   "id": "d82c9d76c4f0915c"
  }
 ],
 "metadata": {
  "kernelspec": {
   "display_name": "Python 3",
   "language": "python",
   "name": "python3"
  },
  "language_info": {
   "codemirror_mode": {
    "name": "ipython",
    "version": 2
   },
   "file_extension": ".py",
   "mimetype": "text/x-python",
   "name": "python",
   "nbconvert_exporter": "python",
   "pygments_lexer": "ipython2",
   "version": "2.7.6"
  }
 },
 "nbformat": 4,
 "nbformat_minor": 5
}
