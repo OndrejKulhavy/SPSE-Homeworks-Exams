{
 "cells": [
  {
   "cell_type": "markdown",
   "source": [
    "# Exercise 20\n",
    "### Task 20.6"
   ],
   "metadata": {
    "collapsed": false
   },
   "id": "8fb3a6058ca5bac4"
  },
  {
   "cell_type": "code",
   "execution_count": 24,
   "id": "initial_id",
   "metadata": {
    "collapsed": true,
    "ExecuteTime": {
     "end_time": "2024-03-04T13:42:18.611771100Z",
     "start_time": "2024-03-04T13:42:18.396262900Z"
    }
   },
   "outputs": [],
   "source": [
    "import numpy as np\n",
    "\n",
    "data = np.array([20, 23, -100, -5, 30, 70, -18, 99, 81, 16, 45, 90, -39, -82, 75, 0, 16, 91, 48, 0, 70])"
   ]
  },
  {
   "cell_type": "markdown",
   "source": [
    "1. Pomocí funkce where v knihovně NumPy vyberte jen záporná čísla."
   ],
   "metadata": {
    "collapsed": false
   },
   "id": "9c2cf3da6e035dc2"
  },
  {
   "cell_type": "code",
   "outputs": [
    {
     "name": "stdout",
     "output_type": "stream",
     "text": [
      "[-100   -5  -18  -39  -82]\n"
     ]
    }
   ],
   "source": [
    "result1 = np.where(data < 0)\n",
    "print(data[result1])"
   ],
   "metadata": {
    "collapsed": false,
    "ExecuteTime": {
     "end_time": "2024-03-04T13:42:18.656461400Z",
     "start_time": "2024-03-04T13:42:18.616423200Z"
    }
   },
   "id": "365b0541117b3b9e",
   "execution_count": 25
  },
  {
   "cell_type": "markdown",
   "source": [
    "2. Pomocí funkce where v knihovně NumPy vynerta jen čísla v rozsahu -10 až -1.  (Nápověda: použijte kulaté závorky a znak &)"
   ],
   "metadata": {
    "collapsed": false
   },
   "id": "59d02545b4f14160"
  },
  {
   "cell_type": "code",
   "outputs": [
    {
     "name": "stdout",
     "output_type": "stream",
     "text": [
      "[-5]\n"
     ]
    }
   ],
   "source": [
    "result2 = np.where((data >= -10) & (data <= -1))\n",
    "print(data[result2])"
   ],
   "metadata": {
    "collapsed": false,
    "ExecuteTime": {
     "end_time": "2024-03-04T13:42:18.763560500Z",
     "start_time": "2024-03-04T13:42:18.645441900Z"
    }
   },
   "id": "d6b0fbc7bf791310",
   "execution_count": 26
  },
  {
   "cell_type": "markdown",
   "source": [
    "3. Pomocí funkce where v knihovně NumPy vynerta jen čísla v rozsahu 1 až 50, nebo čísla záporná. (Nápověda: použijte kulaté závorky a znak |)"
   ],
   "metadata": {
    "collapsed": false
   },
   "id": "228b74e26dff8082"
  },
  {
   "cell_type": "code",
   "outputs": [
    {
     "name": "stdout",
     "output_type": "stream",
     "text": [
      "[  20   23 -100   -5   30  -18   16   45  -39  -82   16   48]\n"
     ]
    }
   ],
   "source": [
    "result3 = np.where((data >= 1) & (data <= 50) | (data < 0))\n",
    "print(data[result3])"
   ],
   "metadata": {
    "collapsed": false,
    "ExecuteTime": {
     "end_time": "2024-03-04T13:42:18.801533900Z",
     "start_time": "2024-03-04T13:42:18.751005400Z"
    }
   },
   "id": "8cd63021dda5d3ea",
   "execution_count": 27
  },
  {
   "cell_type": "markdown",
   "source": [
    "### Task 20.7\n",
    "Pomocí knihovny NumPy a modulu random (pozor, abyste nepoužili místo numpy.random starou dobrou random knihovnu). Vygenerujte náhodná čísla dle následující kritérií"
   ],
   "metadata": {
    "collapsed": false
   },
   "id": "8204c55d2c05f283"
  },
  {
   "cell_type": "markdown",
   "source": [
    "a) Vygenerujte jedno náhodné celé číslo"
   ],
   "metadata": {
    "collapsed": false
   },
   "id": "b8202ad6c37f722b"
  },
  {
   "cell_type": "code",
   "outputs": [
    {
     "data": {
      "text/plain": "23"
     },
     "execution_count": 28,
     "metadata": {},
     "output_type": "execute_result"
    }
   ],
   "source": [
    "np.random.randint(1, 100)"
   ],
   "metadata": {
    "collapsed": false,
    "ExecuteTime": {
     "end_time": "2024-03-04T13:42:18.939565800Z",
     "start_time": "2024-03-04T13:42:18.806529700Z"
    }
   },
   "id": "1dd33c18810b0e28",
   "execution_count": 28
  },
  {
   "cell_type": "markdown",
   "source": [
    "\n",
    "b) Vygenerujte jedno náhodné desetinné číslo"
   ],
   "metadata": {
    "collapsed": false
   },
   "id": "ed351d21ebffa644"
  },
  {
   "cell_type": "code",
   "outputs": [
    {
     "data": {
      "text/plain": "0.4412143452421132"
     },
     "execution_count": 29,
     "metadata": {},
     "output_type": "execute_result"
    }
   ],
   "source": [
    "np.random.rand()"
   ],
   "metadata": {
    "collapsed": false,
    "ExecuteTime": {
     "end_time": "2024-03-04T13:42:18.946856Z",
     "start_time": "2024-03-04T13:42:18.930107700Z"
    }
   },
   "id": "2b10550cc8de6da2",
   "execution_count": 29
  },
  {
   "cell_type": "markdown",
   "source": [
    "c) Vygenerujte jednorozměrné pole náhodných čísel o velikosti 100 prvků. (Nápověda: použijte parametr size)\n"
   ],
   "metadata": {
    "collapsed": false
   },
   "id": "a650816661a82ed"
  },
  {
   "cell_type": "code",
   "outputs": [
    {
     "data": {
      "text/plain": "array([0.09363977, 0.44824119, 0.14458582, 0.19831172, 0.584026  ,\n       0.43054273, 0.28892039, 0.38435214, 0.15195295, 0.23354674,\n       0.29617791, 0.24584378, 0.76074711, 0.06018933, 0.94584707,\n       0.07930668, 0.52702375, 0.68026734, 0.51937521, 0.48839818,\n       0.19724098, 0.63018393, 0.4955711 , 0.72238956, 0.98796941,\n       0.38266673, 0.26786301, 0.23171169, 0.77618548, 0.17704364,\n       0.84625507, 0.30869349, 0.87716965, 0.10061081, 0.56927899,\n       0.34098879, 0.17467357, 0.28593988, 0.55039351, 0.45237778,\n       0.17871059, 0.74800341, 0.12572786, 0.44005564, 0.10337297,\n       0.52239557, 0.32394561, 0.72557928, 0.54613228, 0.09417326,\n       0.16213234, 0.91292585, 0.11647076, 0.43658356, 0.68698986,\n       0.21984935, 0.51905103, 0.12356423, 0.18154993, 0.64129147,\n       0.06227791, 0.58249542, 0.14475591, 0.26613052, 0.80459196,\n       0.8619327 , 0.25781129, 0.13066873, 0.99594702, 0.80519466,\n       0.48354369, 0.44132809, 0.32921589, 0.46744671, 0.33698244,\n       0.43060412, 0.14547943, 0.41115999, 0.00218333, 0.85584983,\n       0.76116368, 0.70473376, 0.74726659, 0.05159252, 0.41916133,\n       0.16789892, 0.87850467, 0.87188091, 0.96705766, 0.21952339,\n       0.83715058, 0.41749691, 0.30274381, 0.83387991, 0.72995998,\n       0.05393324, 0.06465719, 0.42934953, 0.01348163, 0.69426569])"
     },
     "execution_count": 30,
     "metadata": {},
     "output_type": "execute_result"
    }
   ],
   "source": [
    "np.random.rand(100)"
   ],
   "metadata": {
    "collapsed": false,
    "ExecuteTime": {
     "end_time": "2024-03-04T13:42:19.143412Z",
     "start_time": "2024-03-04T13:42:18.948857200Z"
    }
   },
   "id": "be8d7d0e325ee3b7",
   "execution_count": 30
  },
  {
   "cell_type": "markdown",
   "source": [
    "d) Vygenerujte matici náhodných čísel o velikosti 10x10 prvků. (Nápověda: použijte parametr size u metod rand(), nebo randint())\n"
   ],
   "metadata": {
    "collapsed": false
   },
   "id": "8cc80c060ebcaf9f"
  },
  {
   "cell_type": "code",
   "outputs": [
    {
     "data": {
      "text/plain": "array([[0.62067673, 0.79202623, 0.73497762, 0.63606068, 0.00937078,\n        0.56840555, 0.45897386, 0.51863062, 0.36513226, 0.17526575],\n       [0.7053594 , 0.1902847 , 0.64418758, 0.07145477, 0.90569176,\n        0.11862291, 0.92262241, 0.83313075, 0.79604192, 0.92665729],\n       [0.92388263, 0.84208037, 0.6578927 , 0.95581647, 0.756017  ,\n        0.17871838, 0.40022371, 0.85004784, 0.97021489, 0.93524461],\n       [0.46674214, 0.63106136, 0.73352594, 0.13925837, 0.95916862,\n        0.94932459, 0.38026491, 0.61951503, 0.19956946, 0.75758767],\n       [0.48515822, 0.74645158, 0.93274048, 0.21003709, 0.60192851,\n        0.43947287, 0.6290724 , 0.40975246, 0.00264444, 0.51978723],\n       [0.64576455, 0.19196933, 0.53319042, 0.60832783, 0.93798206,\n        0.42301454, 0.49850705, 0.00189464, 0.90463843, 0.22142244],\n       [0.11734502, 0.61697631, 0.01866721, 0.871333  , 0.0942602 ,\n        0.55365667, 0.5112371 , 0.70302751, 0.94542462, 0.97840811],\n       [0.13476641, 0.36405284, 0.27717016, 0.48236798, 0.57260183,\n        0.05190927, 0.91289999, 0.5621098 , 0.57350991, 0.94956955],\n       [0.07299954, 0.81634018, 0.74016019, 0.05381261, 0.7499    ,\n        0.23059106, 0.33980386, 0.55871059, 0.19773063, 0.69153987],\n       [0.69779824, 0.89573231, 0.15927252, 0.71182787, 0.29591831,\n        0.83411587, 0.72515144, 0.93527866, 0.12081374, 0.61824547]])"
     },
     "execution_count": 31,
     "metadata": {},
     "output_type": "execute_result"
    }
   ],
   "source": [
    "np.random.rand(10, 10)"
   ],
   "metadata": {
    "collapsed": false,
    "ExecuteTime": {
     "end_time": "2024-03-04T13:42:19.169937400Z",
     "start_time": "2024-03-04T13:42:18.972858500Z"
    }
   },
   "id": "e8ebb5596836c742",
   "execution_count": 31
  },
  {
   "cell_type": "markdown",
   "source": [
    "e) Vygenerujte náhodnou hodnotu z pole [21,22,34,56]. (Nápověda: použijte metodu choice() )"
   ],
   "metadata": {
    "collapsed": false
   },
   "id": "7e53eb259daa444b"
  },
  {
   "cell_type": "code",
   "outputs": [
    {
     "data": {
      "text/plain": "34"
     },
     "execution_count": 32,
     "metadata": {},
     "output_type": "execute_result"
    }
   ],
   "source": [
    "np.random.choice([21, 22, 34, 56])"
   ],
   "metadata": {
    "collapsed": false,
    "ExecuteTime": {
     "end_time": "2024-03-04T13:42:19.381259200Z",
     "start_time": "2024-03-04T13:42:19.155376600Z"
    }
   },
   "id": "f5fe04e5cf7b8051",
   "execution_count": 32
  },
  {
   "cell_type": "markdown",
   "source": [
    "### Task 20.8"
   ],
   "metadata": {
    "collapsed": false
   },
   "id": "bd915a947c8bb867"
  },
  {
   "cell_type": "code",
   "outputs": [
    {
     "name": "stdout",
     "output_type": "stream",
     "text": [
      "Vygenerované známky: [4 2 4 3 3 3 4 5 3 4 3 4 2 3 3]\n"
     ]
    }
   ],
   "source": [
    "import numpy as np\n",
    "znamky = [1, 2, 3, 4, 5]\n",
    "p = np.array([0.1, 0.25, 0.25, 0.28, 0.12])\n",
    "vygenerovane_znamky = np.random.choice(znamky, size=15, p=p)\n",
    "print(\"Vygenerované známky:\", vygenerovane_znamky)\n"
   ],
   "metadata": {
    "collapsed": false,
    "ExecuteTime": {
     "end_time": "2024-03-04T13:42:19.390293200Z",
     "start_time": "2024-03-04T13:42:19.314927200Z"
    }
   },
   "id": "4e888535d91aa0ee",
   "execution_count": 33
  }
 ],
 "metadata": {
  "kernelspec": {
   "display_name": "Python 3",
   "language": "python",
   "name": "python3"
  },
  "language_info": {
   "codemirror_mode": {
    "name": "ipython",
    "version": 2
   },
   "file_extension": ".py",
   "mimetype": "text/x-python",
   "name": "python",
   "nbconvert_exporter": "python",
   "pygments_lexer": "ipython2",
   "version": "2.7.6"
  }
 },
 "nbformat": 4,
 "nbformat_minor": 5
}
