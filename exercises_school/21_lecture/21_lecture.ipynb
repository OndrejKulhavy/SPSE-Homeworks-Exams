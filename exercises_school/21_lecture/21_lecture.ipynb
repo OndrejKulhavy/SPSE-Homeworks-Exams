{
 "cells": [
  {
   "cell_type": "markdown",
   "source": [
    "# 21.1 Pandas Series a DataFrames\n",
    "Pandas je knihovna na práci s daty. V oblasti machine learning, se datům často říká dataset. Datasety naleznete všude možně, dokonce i naše vláda nějaké poskytuje. Mkrněte třeba na https://data.gov.cz. Typicky jsou data poskytovana jako soubory (zpravidla CSV, XML a JSON format), ktere muzete nejak zpracovat. No a pandas je knihovna prave pro toto zpracovani datasetu.\n",
    "\n",
    "Dale budeme pracovat v Google Colab Jupyter Notebooku, prosim zalozte si novy.\n",
    "\n",
    "Prvni co bude treba je importovat pandas. Typicky se to dela takto a pouziva se zkratka pd:\n",
    "\n",
    "import pandas as pd\n",
    "\n",
    "Nejprve si vyzkousime datove typy/struktury, ktere Pandas nabizi. Jsou dva: Series a DataFrame\n",
    "\n",
    "Series \n",
    "Jedna se o jednorozmerna data, napriklad rada cisel, seznam mest, apod.. Zkuste nasledujici kod:\n",
    "\n",
    "pocty = [50, 27, 32]\n",
    "pd_pocty = pd.Series(pocty)\n",
    "\n",
    "Nyni zkusime promennou vypsat. V jupyteru staci napsat jeji nazev - v pripade pouziti panadas to da lepsi vysledky, nez print(pd_pocty). Zkuste si oboje a uvidite...\n",
    "\n",
    "Series jsou celkem primitivni, ale umoznuji pridat label (popisky dat), zkusme to napriklad takto:\n",
    "\n",
    "pd_pocty = pd.Series(pocty, index = [\"prumerny vek reditelu/ek\", \"prumerna vek sekretaru/ek\", \"prumerna vek zivnostniku\"])\n",
    "\n",
    "A zkuste si to opet vypsat, prostym napsanim nazvu.\n",
    "\n",
    "\n",
    "\n",
    "DataFrame\n",
    "Jedna se o dvourozmerna data, napriklad cokoli, co lze vlozit do excelu, nebo databazova tabulka jak ji znate z RDBMS. Zkuste si priklad:\n",
    "\n",
    "zamestnanci = {\n",
    "  \"plat\": [42000, 48400, 32500],\n",
    "  \"vek\": [50, 40, 45]\n",
    "}\n",
    "\n",
    "df = pd.DataFrame(zamestnanci)\n",
    "\n",
    "\n",
    "Jak si promennou df vypisete, to uz preci vite... Vsimnete si, ze pandas sam pridat ID (tedy primarni klice) a cisluje - pozor - od nuly. (Databaze typicky od 1)"
   ],
   "metadata": {
    "collapsed": false
   },
   "id": "46251ec213382371"
  },
  {
   "cell_type": "code",
   "execution_count": 39,
   "id": "initial_id",
   "metadata": {
    "collapsed": true,
    "ExecuteTime": {
     "end_time": "2024-03-11T13:28:14.105015300Z",
     "start_time": "2024-03-11T13:28:13.909133Z"
    }
   },
   "outputs": [
    {
     "data": {
      "text/plain": "    plat  vek\n0  42000   50\n1  48400   40\n2  32500   45",
      "text/html": "<div>\n<style scoped>\n    .dataframe tbody tr th:only-of-type {\n        vertical-align: middle;\n    }\n\n    .dataframe tbody tr th {\n        vertical-align: top;\n    }\n\n    .dataframe thead th {\n        text-align: right;\n    }\n</style>\n<table border=\"1\" class=\"dataframe\">\n  <thead>\n    <tr style=\"text-align: right;\">\n      <th></th>\n      <th>plat</th>\n      <th>vek</th>\n    </tr>\n  </thead>\n  <tbody>\n    <tr>\n      <th>0</th>\n      <td>42000</td>\n      <td>50</td>\n    </tr>\n    <tr>\n      <th>1</th>\n      <td>48400</td>\n      <td>40</td>\n    </tr>\n    <tr>\n      <th>2</th>\n      <td>32500</td>\n      <td>45</td>\n    </tr>\n  </tbody>\n</table>\n</div>"
     },
     "execution_count": 39,
     "metadata": {},
     "output_type": "execute_result"
    }
   ],
   "source": [
    "\n",
    "import pandas as pd\n",
    "\n",
    "pocty = [50, 27, 32]\n",
    "pd_pocty = pd.Series(pocty)\n",
    "\n",
    "pocty\n",
    "pd_pocty\n",
    "\n",
    "pd_pocty = pd.Series(pocty, index = [\"prumerny vek reditelu/ek\", \"prumerna vek sekretaru/ek\", \"prumerna vek zivnostniku\"])\n",
    "\n",
    "pd_pocty\n",
    "\n",
    "zamestnanci = {\n",
    "  \"plat\": [42000, 48400, 32500],\n",
    "  \"vek\": [50, 40, 45]\n",
    "}\n",
    "\n",
    "df = pd.DataFrame(zamestnanci)\n",
    "\n",
    "df"
   ]
  },
  {
   "cell_type": "markdown",
   "source": [
    "# 21.2. Pandas manipulace s daty\n",
    "Nyni je cas naucit se manipulovat s daty v pandas strukturach. Zkusime to tentokrat na hotovych prikladech. Priklady jsou pro Google Colab Jupyter Notebook, tak prosim pokracujte v tom z prikladu 21.1.\n",
    "\n",
    "Serie\n",
    "Manipulace s daty v serii je snadna, zkuste si nejprve vytvorit jednu, ve ktere jsou vysky pohori:\n",
    "\n",
    "vysky = pd.Series([1603, 1491, 1378], index = [\"Snezka\", \"Praded\", \"Plechy\"])\n",
    "\n",
    "nebo treba muzete i takto:\n",
    "\n",
    "vysky = pd.Series({\"Snezka\": 1603, \"Praded\": 1491, \"Plechy\": 1378})\n",
    "\n",
    "Nyni zkusmee vypsat vysku snezky:\n",
    "\n",
    "vysky[\"Snezka\"]\n",
    "\n",
    "To preci neni tezke, ne? Co treba vypsat vsechny vyssi nez 1,4km?\n",
    "vysky[vysky > 1400]\n",
    "\n",
    "No zvladne to i male dite, tohle neni zadna veda...ale preci. Dokazete vysky vypsat v km misto m ?\n",
    "\n",
    "vysky_v_kilometrech = vysky / 1000\n",
    "vysky_v_kilometrech\n",
    "\n",
    "No tak vidite, tohle funguje uplne stejne jako numpy...\n",
    "\n",
    "DataFrame\n",
    "Dataframe pracuje uplne stejne jako Series, ale se dvema rozmery. Pojme si jeden nadefinovat. Vlastne to budou zase hory, ale krome jmena a vysky, pridame jeste pohori, treba takto:\n",
    "\n",
    "\n",
    "data = {\n",
    "\"pohori\": [\"Krkonose\", \"Jeseniky\", \"Sumava\"],\n",
    "\"hora\": [\"Snezka\", \"Praded\", \"Plechy\"],\n",
    "\"vyska\": [1603, 1491, 1378]\n",
    "}\n",
    "\n",
    "A data primitivne prevedeme do pandas:\n",
    "\n",
    "df = pd.DataFrame(data, columns = [\"pohori\", \"hora\", \"vyska\"])\n",
    "\n",
    "a vypiseme\n",
    "\n",
    "df\n",
    " \n",
    "No a ted zkuste vypsat vysky vsech hor?\n",
    "\n",
    "df['vyska']\n",
    "\n",
    "A co vysky a jejich nazvy?\n",
    "\n",
    "df[['hora', 'vyska']]\n",
    "\n",
    "A co treba prvni zaznam, to je pomoci atributu loc (mysleno location): \n",
    "\n",
    "df.loc[0]\n",
    "\n",
    "Druhy zaznam logicky bude loc[1] a prvni az treti zase loc[0:2]... klasika.\n",
    "\n",
    "Ukoly pro Vas:\n",
    "Zkuste nyni pouzit tahak, na ktery odkazujeme na zacatku kapitoly vyresit nasledujici ulohy:\n",
    "\n",
    "1) Vypiste serazene hory od nejnizsi\n",
    "\n",
    "2) Vypiste hory jen v Jesenikach\n",
    "\n",
    "3) Spoctete prumernou vysku hor v datasetu\n",
    "\n",
    "4) Vypiste nejmensi horu"
   ],
   "metadata": {
    "collapsed": false
   },
   "id": "3cf9370b4e45bbb0"
  },
  {
   "cell_type": "code",
   "outputs": [
    {
     "data": {
      "text/plain": "     pohori    hora   vyska\n0       NaN     NaN     NaN\n1  Jeseniky  Praded  1491.0\n2       NaN     NaN     NaN",
      "text/html": "<div>\n<style scoped>\n    .dataframe tbody tr th:only-of-type {\n        vertical-align: middle;\n    }\n\n    .dataframe tbody tr th {\n        vertical-align: top;\n    }\n\n    .dataframe thead th {\n        text-align: right;\n    }\n</style>\n<table border=\"1\" class=\"dataframe\">\n  <thead>\n    <tr style=\"text-align: right;\">\n      <th></th>\n      <th>pohori</th>\n      <th>hora</th>\n      <th>vyska</th>\n    </tr>\n  </thead>\n  <tbody>\n    <tr>\n      <th>0</th>\n      <td>NaN</td>\n      <td>NaN</td>\n      <td>NaN</td>\n    </tr>\n    <tr>\n      <th>1</th>\n      <td>Jeseniky</td>\n      <td>Praded</td>\n      <td>1491.0</td>\n    </tr>\n    <tr>\n      <th>2</th>\n      <td>NaN</td>\n      <td>NaN</td>\n      <td>NaN</td>\n    </tr>\n  </tbody>\n</table>\n</div>"
     },
     "execution_count": 40,
     "metadata": {},
     "output_type": "execute_result"
    }
   ],
   "source": [
    "\n",
    "import pandas as pd\n",
    "\n",
    "vysky = pd.Series([1603, 1491, 1378], index = [\"Snezka\", \"Praded\", \"Plechy\"])\n",
    "\n",
    "vysky = pd.Series({\"Snezka\": 1603, \"Praded\": 1491, \"Plechy\": 1378})\n",
    "\n",
    "vysky[\"Snezka\"]\n",
    "\n",
    "vysky[vysky > 1400]\n",
    "\n",
    "vysky_v_kilometrech = vysky / 1000\n",
    "vysky_v_kilometrech\n",
    "\n",
    "data = {\n",
    "\"pohori\": [\"Krkonose\", \"Jeseniky\", \"Sumava\"],\n",
    "\"hora\": [\"Snezka\", \"Praded\", \"Plechy\"],\n",
    "\"vyska\": [1603, 1491, 1378]\n",
    "}\n",
    "\n",
    "df = pd.DataFrame(data, columns = [\"pohori\", \"hora\", \"vyska\"])\n",
    "\n",
    "df\n",
    "\n",
    "df['vyska']\n",
    "\n",
    "df[['hora', 'vyska']]\n",
    "\n",
    "df.loc[0]\n",
    "\n",
    "df.sort_values(by=['vyska'])\n",
    "\n",
    "df.where(df[\"pohori\"] == \"Jeseniky\")"
   ],
   "metadata": {
    "collapsed": false,
    "ExecuteTime": {
     "end_time": "2024-03-11T13:28:14.296212700Z",
     "start_time": "2024-03-11T13:28:14.110015900Z"
    }
   },
   "id": "9e6036be7c150dc8",
   "execution_count": 40
  },
  {
   "cell_type": "markdown",
   "source": [],
   "metadata": {
    "collapsed": false
   },
   "id": "1a2ec290e0cb8640"
  },
  {
   "cell_type": "markdown",
   "source": [
    "# 21.3 Pandas import a export csv\n",
    "Tak a ted jak dostat do Google Colab Jupyteru dataset. Asi nejbeznejsi je importovat ho z webu.\n",
    "\n",
    "https://raw.githubusercontent.com/mlcollege/ai-academy/main/05-Zaklady-datove-analyzy/data/nehody_cyklistu.csv\n",
    "\n",
    "Nejprve musime zkontrolovat format CSV. Jsou data oddelena carkou nebo strednikem? Jakmile to zjistime, muzeme je mportovat. Zkuste nahradit <toto>, necim co by ta data nacetlo.\n",
    "\n",
    "csv_data = pd.read_csv('<url adresa>', sep='<separator>')\n",
    "csv_data\n",
    "\n",
    "Zkuste nyni nacist a vypsat jmena vsech postav z Harryho Pottera, kdyz vite, ze dataset je zde: \n",
    "\n",
    "https://raw.githubusercontent.com/adamerose/datasets/master/harry_potter_characters.csv\n",
    "\n",
    "Casto jsou data prilis velka, takze se pouziva prikaz head(), ktery ukaze jen hlavicku, napriklad takto prvnich pet zaznamu:\n",
    "\n",
    "csv_data.head(5)\n",
    "\n",
    "Další možností je nahrát dataset příámo do Google Colab Jupyter Notebooku a to uděláte kliknutím na ikonu složky v levém panelu nahoře. Následně uploadujete soubor, který je přílohou této úlohy a ten pak nahrajete pomocí relativní cesty:\n",
    "\n",
    "df = pd.read_csv('dataset.csv')\n",
    "\n",
    "Kdybyste naopak chteli dataset ulozt, lze to pomoci prikazu:\n",
    "\n",
    "df.to_csv('dataset_zaloha.csv')\n",
    "\n",
    "Jestli máte načtení dataset z přílohy - zkuste si ho prohlédnout a najít v něm chyby následujících typů:\n",
    "\n",
    "Prázndná pole (buňky)\n",
    "Špatný formát dat\n",
    "Špatná data, nesprávné a nemožné hodnoty\n",
    "Duplicitní řádky\n",
    "A zkuste identifikovat řádky a sloupce, kterých se to týká..."
   ],
   "metadata": {
    "collapsed": false
   },
   "id": "7b498793d57c6241"
  },
  {
   "cell_type": "code",
   "outputs": [
    {
     "data": {
      "text/plain": "    is a male date of birth  gross salary  number of children  education  \\\n0         0.0    1965-09-30      55262.20                 1.0        3.0   \n1         1.0    1971-08-14      71776.00                 1.0        5.0   \n2         NaN    1997-12-31      53301.40                 NaN        3.0   \n3         0.0    1998-12-17      63001.40                 0.0        3.0   \n4         0.0    1991-10-24      45777.00                 2.0        1.0   \n5         0.0    1993-11-04      48737.40                 1.0       16.0   \n6         1.0    1989-03-18      36349.30                 4.0        1.0   \n7         1.0    1989-03-18      36349.30                 4.0        1.0   \n8         1.0    1989-03-18      36349.30                 4.0        1.0   \n9         0.0      19660701      46999.00                 0.0        2.0   \n10        NaN    1963-12-24      46999.00                 0.0        2.0   \n11        1.0    2002-01-28      74599.30                 0.0        4.0   \n12        0.0    1951-01-09      31773.00                 3.0        1.0   \n13        1.0    1983-09-07      74836.00                 1.0        NaN   \n14        1.0    1988-09-08      53508.23                 4.0        3.0   \n15        1.0    1992-05-16      42053.00                 2.0        3.0   \n16        0.0    1976-06-10      82974.00                 0.0        5.0   \n17        1.0    1992-12-24      53916.48                 1.0        2.0   \n18        0.0      19910724           NaN                 0.0        3.0   \n19        0.0    1975-06-28      32286.00                 2.0        1.0   \n20        1.0    1966-12-29      56483.00                 3.0       -2.0   \n21        0.0    1953-09-20      57568.14                 1.0        1.0   \n22        0.0    1965-10-21      38766.50                 3.0        1.0   \n23        1.0    1994-11-21      46011.51                 2.0        2.0   \n24        0.0    1991-01-14      69384.30                 2.0        4.0   \n25        1.0    1989-12-30      89481.10                 1.0        5.0   \n\n                  region  \n0     Hlavní město Praha  \n1     Hlavní město Praha  \n2     Hlavní město Praha  \n3     Hlavní město Praha  \n4   Moravskoslezský kraj  \n5     Hlavní město Praha  \n6   Moravskoslezský kraj  \n7   Moravskoslezský kraj  \n8   Moravskoslezský kraj  \n9   Moravskoslezský kraj  \n10    Hlavní město Praha  \n11      Středočeský kraj  \n12      Středočeský kraj  \n13    Hlavní město Praha  \n14  Moravskoslezský kraj  \n15    Hlavní město Praha  \n16    Hlavní město Praha  \n17      Středočeský kraj  \n18    Hlavní město Praha  \n19    Hlavní město Praha  \n20      Středočeský kraj  \n21    Hlavní město Praha  \n22  Moravskoslezský kraj  \n23      Středočeský kraj  \n24    Hlavní město Praha  \n25  Moravskoslezský kraj  ",
      "text/html": "<div>\n<style scoped>\n    .dataframe tbody tr th:only-of-type {\n        vertical-align: middle;\n    }\n\n    .dataframe tbody tr th {\n        vertical-align: top;\n    }\n\n    .dataframe thead th {\n        text-align: right;\n    }\n</style>\n<table border=\"1\" class=\"dataframe\">\n  <thead>\n    <tr style=\"text-align: right;\">\n      <th></th>\n      <th>is a male</th>\n      <th>date of birth</th>\n      <th>gross salary</th>\n      <th>number of children</th>\n      <th>education</th>\n      <th>region</th>\n    </tr>\n  </thead>\n  <tbody>\n    <tr>\n      <th>0</th>\n      <td>0.0</td>\n      <td>1965-09-30</td>\n      <td>55262.20</td>\n      <td>1.0</td>\n      <td>3.0</td>\n      <td>Hlavní město Praha</td>\n    </tr>\n    <tr>\n      <th>1</th>\n      <td>1.0</td>\n      <td>1971-08-14</td>\n      <td>71776.00</td>\n      <td>1.0</td>\n      <td>5.0</td>\n      <td>Hlavní město Praha</td>\n    </tr>\n    <tr>\n      <th>2</th>\n      <td>NaN</td>\n      <td>1997-12-31</td>\n      <td>53301.40</td>\n      <td>NaN</td>\n      <td>3.0</td>\n      <td>Hlavní město Praha</td>\n    </tr>\n    <tr>\n      <th>3</th>\n      <td>0.0</td>\n      <td>1998-12-17</td>\n      <td>63001.40</td>\n      <td>0.0</td>\n      <td>3.0</td>\n      <td>Hlavní město Praha</td>\n    </tr>\n    <tr>\n      <th>4</th>\n      <td>0.0</td>\n      <td>1991-10-24</td>\n      <td>45777.00</td>\n      <td>2.0</td>\n      <td>1.0</td>\n      <td>Moravskoslezský kraj</td>\n    </tr>\n    <tr>\n      <th>5</th>\n      <td>0.0</td>\n      <td>1993-11-04</td>\n      <td>48737.40</td>\n      <td>1.0</td>\n      <td>16.0</td>\n      <td>Hlavní město Praha</td>\n    </tr>\n    <tr>\n      <th>6</th>\n      <td>1.0</td>\n      <td>1989-03-18</td>\n      <td>36349.30</td>\n      <td>4.0</td>\n      <td>1.0</td>\n      <td>Moravskoslezský kraj</td>\n    </tr>\n    <tr>\n      <th>7</th>\n      <td>1.0</td>\n      <td>1989-03-18</td>\n      <td>36349.30</td>\n      <td>4.0</td>\n      <td>1.0</td>\n      <td>Moravskoslezský kraj</td>\n    </tr>\n    <tr>\n      <th>8</th>\n      <td>1.0</td>\n      <td>1989-03-18</td>\n      <td>36349.30</td>\n      <td>4.0</td>\n      <td>1.0</td>\n      <td>Moravskoslezský kraj</td>\n    </tr>\n    <tr>\n      <th>9</th>\n      <td>0.0</td>\n      <td>19660701</td>\n      <td>46999.00</td>\n      <td>0.0</td>\n      <td>2.0</td>\n      <td>Moravskoslezský kraj</td>\n    </tr>\n    <tr>\n      <th>10</th>\n      <td>NaN</td>\n      <td>1963-12-24</td>\n      <td>46999.00</td>\n      <td>0.0</td>\n      <td>2.0</td>\n      <td>Hlavní město Praha</td>\n    </tr>\n    <tr>\n      <th>11</th>\n      <td>1.0</td>\n      <td>2002-01-28</td>\n      <td>74599.30</td>\n      <td>0.0</td>\n      <td>4.0</td>\n      <td>Středočeský kraj</td>\n    </tr>\n    <tr>\n      <th>12</th>\n      <td>0.0</td>\n      <td>1951-01-09</td>\n      <td>31773.00</td>\n      <td>3.0</td>\n      <td>1.0</td>\n      <td>Středočeský kraj</td>\n    </tr>\n    <tr>\n      <th>13</th>\n      <td>1.0</td>\n      <td>1983-09-07</td>\n      <td>74836.00</td>\n      <td>1.0</td>\n      <td>NaN</td>\n      <td>Hlavní město Praha</td>\n    </tr>\n    <tr>\n      <th>14</th>\n      <td>1.0</td>\n      <td>1988-09-08</td>\n      <td>53508.23</td>\n      <td>4.0</td>\n      <td>3.0</td>\n      <td>Moravskoslezský kraj</td>\n    </tr>\n    <tr>\n      <th>15</th>\n      <td>1.0</td>\n      <td>1992-05-16</td>\n      <td>42053.00</td>\n      <td>2.0</td>\n      <td>3.0</td>\n      <td>Hlavní město Praha</td>\n    </tr>\n    <tr>\n      <th>16</th>\n      <td>0.0</td>\n      <td>1976-06-10</td>\n      <td>82974.00</td>\n      <td>0.0</td>\n      <td>5.0</td>\n      <td>Hlavní město Praha</td>\n    </tr>\n    <tr>\n      <th>17</th>\n      <td>1.0</td>\n      <td>1992-12-24</td>\n      <td>53916.48</td>\n      <td>1.0</td>\n      <td>2.0</td>\n      <td>Středočeský kraj</td>\n    </tr>\n    <tr>\n      <th>18</th>\n      <td>0.0</td>\n      <td>19910724</td>\n      <td>NaN</td>\n      <td>0.0</td>\n      <td>3.0</td>\n      <td>Hlavní město Praha</td>\n    </tr>\n    <tr>\n      <th>19</th>\n      <td>0.0</td>\n      <td>1975-06-28</td>\n      <td>32286.00</td>\n      <td>2.0</td>\n      <td>1.0</td>\n      <td>Hlavní město Praha</td>\n    </tr>\n    <tr>\n      <th>20</th>\n      <td>1.0</td>\n      <td>1966-12-29</td>\n      <td>56483.00</td>\n      <td>3.0</td>\n      <td>-2.0</td>\n      <td>Středočeský kraj</td>\n    </tr>\n    <tr>\n      <th>21</th>\n      <td>0.0</td>\n      <td>1953-09-20</td>\n      <td>57568.14</td>\n      <td>1.0</td>\n      <td>1.0</td>\n      <td>Hlavní město Praha</td>\n    </tr>\n    <tr>\n      <th>22</th>\n      <td>0.0</td>\n      <td>1965-10-21</td>\n      <td>38766.50</td>\n      <td>3.0</td>\n      <td>1.0</td>\n      <td>Moravskoslezský kraj</td>\n    </tr>\n    <tr>\n      <th>23</th>\n      <td>1.0</td>\n      <td>1994-11-21</td>\n      <td>46011.51</td>\n      <td>2.0</td>\n      <td>2.0</td>\n      <td>Středočeský kraj</td>\n    </tr>\n    <tr>\n      <th>24</th>\n      <td>0.0</td>\n      <td>1991-01-14</td>\n      <td>69384.30</td>\n      <td>2.0</td>\n      <td>4.0</td>\n      <td>Hlavní město Praha</td>\n    </tr>\n    <tr>\n      <th>25</th>\n      <td>1.0</td>\n      <td>1989-12-30</td>\n      <td>89481.10</td>\n      <td>1.0</td>\n      <td>5.0</td>\n      <td>Moravskoslezský kraj</td>\n    </tr>\n  </tbody>\n</table>\n</div>"
     },
     "execution_count": 41,
     "metadata": {},
     "output_type": "execute_result"
    }
   ],
   "source": [
    "csv_data_cyclists = pd.read_csv('https://raw.githubusercontent.com/mlcollege/ai-academy/main/05-Zaklady-datove-analyzy/data/nehody_cyklistu.csv', sep=';')\n",
    "csv_data_cyclists\n",
    "\n",
    "csv_data_harry_potter = pd.read_csv('https://raw.githubusercontent.com/adamerose/datasets/master/harry_potter_characters.csv', sep=',')\n",
    "csv_data_harry_potter\n",
    "\n",
    "csv_data_cyclists.head(5)\n",
    "\n",
    "df = pd.read_csv('dataset.csv')\n",
    "\n",
    "df\n"
   ],
   "metadata": {
    "collapsed": false,
    "ExecuteTime": {
     "end_time": "2024-03-11T13:28:15.084242600Z",
     "start_time": "2024-03-11T13:28:14.134206600Z"
    }
   },
   "id": "18e43618f73f55a1",
   "execution_count": 41
  },
  {
   "cell_type": "markdown",
   "source": [
    "Prázndná pole (buňky)\n",
    "Špatný formát dat\n",
    "Špatná data, nesprávné a nemožné hodnoty\n",
    "Duplicitní řádky\n",
    "A zkuste identifikovat řádky a sloupce, kterých se to týká..."
   ],
   "metadata": {
    "collapsed": false
   },
   "id": "2c895c267617d426"
  },
  {
   "cell_type": "code",
   "outputs": [],
   "source": [
    "df = pd.read_csv('dataset.csv')\n",
    "df['date of birth'] = pd.to_datetime(df['date of birth'], errors='coerce')\n",
    "\n",
    "is_null_csv = pd.notnull(df)\n",
    "\n",
    "is_duplicate_csv = df.duplicated()\n",
    "\n",
    "\n"
   ],
   "metadata": {
    "collapsed": false,
    "ExecuteTime": {
     "end_time": "2024-03-11T13:28:15.088240200Z",
     "start_time": "2024-03-11T13:28:14.818063100Z"
    }
   },
   "id": "7ac55a5476fada4a",
   "execution_count": 42
  },
  {
   "cell_type": "markdown",
   "source": [
    "# 21.4 Pandas a čištění dat - prázdná pole\n",
    "Prvním úkolem bude vyčistit data z úlohy 21.3. tak, aby tam nebyla žádná prázdná pole. Nejprve jak je najdete - prázná pole se v pandas knihovně mění na hodnotu: NaN\n",
    "\n",
    "Naleznete ji na radcich 2, 10, 13 a 18\n",
    "\n",
    "\n",
    "df = pd.read_csv('data.csv')\n",
    "\n",
    "df\n",
    "\n",
    "Jak ji odstranit, je to jednoduché - pomocí metody dropna(). Například takto:\n",
    "\n",
    "clear_df = df.dropna()\n",
    "\n",
    "clear_df\n",
    "\n",
    "Pozor, ale udělali jsme kopii dat, ve které prostě řádky s NaN hodntami chybí. Byly databázově řečeno dropnuty. Co kdybychom ale nechtěli kopii data a místo toho jsme chtěli upravit data v původní proměnné df?\n",
    "\n",
    "df.dropna(inplace=True)\n",
    "\n",
    "df\n",
    "\n",
    "Atribut inplace=True můžete využít u všech pandas funkcí, které běžné vrací nový dataframe. Pamatujte si to, bude se to hodit...\n"
   ],
   "metadata": {
    "collapsed": false
   },
   "id": "20982987fd5d79e2"
  },
  {
   "cell_type": "code",
   "outputs": [
    {
     "data": {
      "text/plain": "    is a male date of birth  gross salary  number of children  education  \\\n0         0.0    1965-09-30      55262.20                 1.0        3.0   \n1         1.0    1971-08-14      71776.00                 1.0        5.0   \n3         0.0    1998-12-17      63001.40                 0.0        3.0   \n4         0.0    1991-10-24      45777.00                 2.0        1.0   \n5         0.0    1993-11-04      48737.40                 1.0       16.0   \n6         1.0    1989-03-18      36349.30                 4.0        1.0   \n7         1.0    1989-03-18      36349.30                 4.0        1.0   \n8         1.0    1989-03-18      36349.30                 4.0        1.0   \n9         0.0      19660701      46999.00                 0.0        2.0   \n11        1.0    2002-01-28      74599.30                 0.0        4.0   \n12        0.0    1951-01-09      31773.00                 3.0        1.0   \n14        1.0    1988-09-08      53508.23                 4.0        3.0   \n15        1.0    1992-05-16      42053.00                 2.0        3.0   \n16        0.0    1976-06-10      82974.00                 0.0        5.0   \n17        1.0    1992-12-24      53916.48                 1.0        2.0   \n19        0.0    1975-06-28      32286.00                 2.0        1.0   \n20        1.0    1966-12-29      56483.00                 3.0       -2.0   \n21        0.0    1953-09-20      57568.14                 1.0        1.0   \n22        0.0    1965-10-21      38766.50                 3.0        1.0   \n23        1.0    1994-11-21      46011.51                 2.0        2.0   \n24        0.0    1991-01-14      69384.30                 2.0        4.0   \n25        1.0    1989-12-30      89481.10                 1.0        5.0   \n\n                  region  \n0     Hlavní město Praha  \n1     Hlavní město Praha  \n3     Hlavní město Praha  \n4   Moravskoslezský kraj  \n5     Hlavní město Praha  \n6   Moravskoslezský kraj  \n7   Moravskoslezský kraj  \n8   Moravskoslezský kraj  \n9   Moravskoslezský kraj  \n11      Středočeský kraj  \n12      Středočeský kraj  \n14  Moravskoslezský kraj  \n15    Hlavní město Praha  \n16    Hlavní město Praha  \n17      Středočeský kraj  \n19    Hlavní město Praha  \n20      Středočeský kraj  \n21    Hlavní město Praha  \n22  Moravskoslezský kraj  \n23      Středočeský kraj  \n24    Hlavní město Praha  \n25  Moravskoslezský kraj  ",
      "text/html": "<div>\n<style scoped>\n    .dataframe tbody tr th:only-of-type {\n        vertical-align: middle;\n    }\n\n    .dataframe tbody tr th {\n        vertical-align: top;\n    }\n\n    .dataframe thead th {\n        text-align: right;\n    }\n</style>\n<table border=\"1\" class=\"dataframe\">\n  <thead>\n    <tr style=\"text-align: right;\">\n      <th></th>\n      <th>is a male</th>\n      <th>date of birth</th>\n      <th>gross salary</th>\n      <th>number of children</th>\n      <th>education</th>\n      <th>region</th>\n    </tr>\n  </thead>\n  <tbody>\n    <tr>\n      <th>0</th>\n      <td>0.0</td>\n      <td>1965-09-30</td>\n      <td>55262.20</td>\n      <td>1.0</td>\n      <td>3.0</td>\n      <td>Hlavní město Praha</td>\n    </tr>\n    <tr>\n      <th>1</th>\n      <td>1.0</td>\n      <td>1971-08-14</td>\n      <td>71776.00</td>\n      <td>1.0</td>\n      <td>5.0</td>\n      <td>Hlavní město Praha</td>\n    </tr>\n    <tr>\n      <th>3</th>\n      <td>0.0</td>\n      <td>1998-12-17</td>\n      <td>63001.40</td>\n      <td>0.0</td>\n      <td>3.0</td>\n      <td>Hlavní město Praha</td>\n    </tr>\n    <tr>\n      <th>4</th>\n      <td>0.0</td>\n      <td>1991-10-24</td>\n      <td>45777.00</td>\n      <td>2.0</td>\n      <td>1.0</td>\n      <td>Moravskoslezský kraj</td>\n    </tr>\n    <tr>\n      <th>5</th>\n      <td>0.0</td>\n      <td>1993-11-04</td>\n      <td>48737.40</td>\n      <td>1.0</td>\n      <td>16.0</td>\n      <td>Hlavní město Praha</td>\n    </tr>\n    <tr>\n      <th>6</th>\n      <td>1.0</td>\n      <td>1989-03-18</td>\n      <td>36349.30</td>\n      <td>4.0</td>\n      <td>1.0</td>\n      <td>Moravskoslezský kraj</td>\n    </tr>\n    <tr>\n      <th>7</th>\n      <td>1.0</td>\n      <td>1989-03-18</td>\n      <td>36349.30</td>\n      <td>4.0</td>\n      <td>1.0</td>\n      <td>Moravskoslezský kraj</td>\n    </tr>\n    <tr>\n      <th>8</th>\n      <td>1.0</td>\n      <td>1989-03-18</td>\n      <td>36349.30</td>\n      <td>4.0</td>\n      <td>1.0</td>\n      <td>Moravskoslezský kraj</td>\n    </tr>\n    <tr>\n      <th>9</th>\n      <td>0.0</td>\n      <td>19660701</td>\n      <td>46999.00</td>\n      <td>0.0</td>\n      <td>2.0</td>\n      <td>Moravskoslezský kraj</td>\n    </tr>\n    <tr>\n      <th>11</th>\n      <td>1.0</td>\n      <td>2002-01-28</td>\n      <td>74599.30</td>\n      <td>0.0</td>\n      <td>4.0</td>\n      <td>Středočeský kraj</td>\n    </tr>\n    <tr>\n      <th>12</th>\n      <td>0.0</td>\n      <td>1951-01-09</td>\n      <td>31773.00</td>\n      <td>3.0</td>\n      <td>1.0</td>\n      <td>Středočeský kraj</td>\n    </tr>\n    <tr>\n      <th>14</th>\n      <td>1.0</td>\n      <td>1988-09-08</td>\n      <td>53508.23</td>\n      <td>4.0</td>\n      <td>3.0</td>\n      <td>Moravskoslezský kraj</td>\n    </tr>\n    <tr>\n      <th>15</th>\n      <td>1.0</td>\n      <td>1992-05-16</td>\n      <td>42053.00</td>\n      <td>2.0</td>\n      <td>3.0</td>\n      <td>Hlavní město Praha</td>\n    </tr>\n    <tr>\n      <th>16</th>\n      <td>0.0</td>\n      <td>1976-06-10</td>\n      <td>82974.00</td>\n      <td>0.0</td>\n      <td>5.0</td>\n      <td>Hlavní město Praha</td>\n    </tr>\n    <tr>\n      <th>17</th>\n      <td>1.0</td>\n      <td>1992-12-24</td>\n      <td>53916.48</td>\n      <td>1.0</td>\n      <td>2.0</td>\n      <td>Středočeský kraj</td>\n    </tr>\n    <tr>\n      <th>19</th>\n      <td>0.0</td>\n      <td>1975-06-28</td>\n      <td>32286.00</td>\n      <td>2.0</td>\n      <td>1.0</td>\n      <td>Hlavní město Praha</td>\n    </tr>\n    <tr>\n      <th>20</th>\n      <td>1.0</td>\n      <td>1966-12-29</td>\n      <td>56483.00</td>\n      <td>3.0</td>\n      <td>-2.0</td>\n      <td>Středočeský kraj</td>\n    </tr>\n    <tr>\n      <th>21</th>\n      <td>0.0</td>\n      <td>1953-09-20</td>\n      <td>57568.14</td>\n      <td>1.0</td>\n      <td>1.0</td>\n      <td>Hlavní město Praha</td>\n    </tr>\n    <tr>\n      <th>22</th>\n      <td>0.0</td>\n      <td>1965-10-21</td>\n      <td>38766.50</td>\n      <td>3.0</td>\n      <td>1.0</td>\n      <td>Moravskoslezský kraj</td>\n    </tr>\n    <tr>\n      <th>23</th>\n      <td>1.0</td>\n      <td>1994-11-21</td>\n      <td>46011.51</td>\n      <td>2.0</td>\n      <td>2.0</td>\n      <td>Středočeský kraj</td>\n    </tr>\n    <tr>\n      <th>24</th>\n      <td>0.0</td>\n      <td>1991-01-14</td>\n      <td>69384.30</td>\n      <td>2.0</td>\n      <td>4.0</td>\n      <td>Hlavní město Praha</td>\n    </tr>\n    <tr>\n      <th>25</th>\n      <td>1.0</td>\n      <td>1989-12-30</td>\n      <td>89481.10</td>\n      <td>1.0</td>\n      <td>5.0</td>\n      <td>Moravskoslezský kraj</td>\n    </tr>\n  </tbody>\n</table>\n</div>"
     },
     "execution_count": 43,
     "metadata": {},
     "output_type": "execute_result"
    }
   ],
   "source": [
    "df = pd.read_csv('dataset.csv')\n",
    "df\n",
    "clear_df = df.dropna()\n",
    "clear_df\n",
    "df.dropna(inplace=True)\n",
    "df"
   ],
   "metadata": {
    "collapsed": false,
    "ExecuteTime": {
     "end_time": "2024-03-11T13:28:15.190851700Z",
     "start_time": "2024-03-11T13:28:14.831115600Z"
    }
   },
   "id": "be5dbf37514fa0",
   "execution_count": 43
  },
  {
   "cell_type": "markdown",
   "source": [
    "# 21.5 Pandas a čištění dat - špatný formát\n",
    "Nyní navažme na příklad 21.3. a podívejme se na jiný neduh, kterým dataset trpí. Jsou to špatné formáty dat, konrétně řádky 18 a 9 mají problém s formátem datumu, \n",
    "který neobsahuje pomlčky. Jinak je v pořádku, jen chybí pomlčky. Jak to opravit? \n",
    "\n",
    "Opravy formátu datůmů, časů jsou denním chlebem každého programátora, databázového vývojáře a samozřejmě i odborníka na machine learning. Je to evergreen každých dat. U pandas to máte snadné, opravuje se to celkem samo pomocí metody: to_datetime()\n",
    "\n",
    "novy_sloupec_s_datumy = pd.to_datetime(df['date of birth'])\n",
    "novy_sloupec_s_datumy\n",
    "\n",
    "To bylo snadné, že? A jak to upravit v proměnné df? No snadno, prostě přepíšeme ten sloupec původní, tím novým:\n",
    "\n",
    "df['date of birth'] = novy_sloupec_s_datumy\n",
    "df\n",
    "\n",
    "No a ostatní špatné formáty jsou jen jednodušší. Zkuste si například číselník education převést z float na integer, apod.  Typicky potřebujete metody:\n",
    "\n",
    "to_numeric()\n",
    "to_datetime()\n",
    "\n",
    "A někdy i funkce:\n",
    "\n",
    "astype()\n",
    "convert_dtypes()\n",
    "\n",
    "\n",
    "Zvládnete to bez nápovědy? Určitě ano..."
   ],
   "metadata": {
    "collapsed": false
   },
   "id": "3ca59230809c0128"
  },
  {
   "cell_type": "code",
   "outputs": [
    {
     "ename": "ValueError",
     "evalue": "time data \"19660701\" doesn't match format \"%Y-%m-%d\", at position 8. You might want to try:\n    - passing `format` if your strings have a consistent format;\n    - passing `format='ISO8601'` if your strings are all ISO8601 but not necessarily in exactly the same format;\n    - passing `format='mixed'`, and the format will be inferred for each element individually. You might want to use `dayfirst` alongside this.",
     "output_type": "error",
     "traceback": [
      "\u001B[1;31m---------------------------------------------------------------------------\u001B[0m",
      "\u001B[1;31mValueError\u001B[0m                                Traceback (most recent call last)",
      "Cell \u001B[1;32mIn[44], line 1\u001B[0m\n\u001B[1;32m----> 1\u001B[0m novy_sloupec_s_datumy \u001B[38;5;241m=\u001B[39m \u001B[43mpd\u001B[49m\u001B[38;5;241;43m.\u001B[39;49m\u001B[43mto_datetime\u001B[49m\u001B[43m(\u001B[49m\u001B[43mdf\u001B[49m\u001B[43m[\u001B[49m\u001B[38;5;124;43m'\u001B[39;49m\u001B[38;5;124;43mdate of birth\u001B[39;49m\u001B[38;5;124;43m'\u001B[39;49m\u001B[43m]\u001B[49m\u001B[43m)\u001B[49m\n\u001B[0;32m      2\u001B[0m novy_sloupec_s_datumy\n",
      "File \u001B[1;32mC:\\SPSE_JECNA\\PV\\exercises_school\\21_lecture\\.venv\\Lib\\site-packages\\pandas\\core\\tools\\datetimes.py:1067\u001B[0m, in \u001B[0;36mto_datetime\u001B[1;34m(arg, errors, dayfirst, yearfirst, utc, format, exact, unit, infer_datetime_format, origin, cache)\u001B[0m\n\u001B[0;32m   1065\u001B[0m         result \u001B[38;5;241m=\u001B[39m arg\u001B[38;5;241m.\u001B[39mmap(cache_array)\n\u001B[0;32m   1066\u001B[0m     \u001B[38;5;28;01melse\u001B[39;00m:\n\u001B[1;32m-> 1067\u001B[0m         values \u001B[38;5;241m=\u001B[39m \u001B[43mconvert_listlike\u001B[49m\u001B[43m(\u001B[49m\u001B[43marg\u001B[49m\u001B[38;5;241;43m.\u001B[39;49m\u001B[43m_values\u001B[49m\u001B[43m,\u001B[49m\u001B[43m \u001B[49m\u001B[38;5;28;43mformat\u001B[39;49m\u001B[43m)\u001B[49m\n\u001B[0;32m   1068\u001B[0m         result \u001B[38;5;241m=\u001B[39m arg\u001B[38;5;241m.\u001B[39m_constructor(values, index\u001B[38;5;241m=\u001B[39marg\u001B[38;5;241m.\u001B[39mindex, name\u001B[38;5;241m=\u001B[39marg\u001B[38;5;241m.\u001B[39mname)\n\u001B[0;32m   1069\u001B[0m \u001B[38;5;28;01melif\u001B[39;00m \u001B[38;5;28misinstance\u001B[39m(arg, (ABCDataFrame, abc\u001B[38;5;241m.\u001B[39mMutableMapping)):\n",
      "File \u001B[1;32mC:\\SPSE_JECNA\\PV\\exercises_school\\21_lecture\\.venv\\Lib\\site-packages\\pandas\\core\\tools\\datetimes.py:433\u001B[0m, in \u001B[0;36m_convert_listlike_datetimes\u001B[1;34m(arg, format, name, utc, unit, errors, dayfirst, yearfirst, exact)\u001B[0m\n\u001B[0;32m    431\u001B[0m \u001B[38;5;66;03m# `format` could be inferred, or user didn't ask for mixed-format parsing.\u001B[39;00m\n\u001B[0;32m    432\u001B[0m \u001B[38;5;28;01mif\u001B[39;00m \u001B[38;5;28mformat\u001B[39m \u001B[38;5;129;01mis\u001B[39;00m \u001B[38;5;129;01mnot\u001B[39;00m \u001B[38;5;28;01mNone\u001B[39;00m \u001B[38;5;129;01mand\u001B[39;00m \u001B[38;5;28mformat\u001B[39m \u001B[38;5;241m!=\u001B[39m \u001B[38;5;124m\"\u001B[39m\u001B[38;5;124mmixed\u001B[39m\u001B[38;5;124m\"\u001B[39m:\n\u001B[1;32m--> 433\u001B[0m     \u001B[38;5;28;01mreturn\u001B[39;00m \u001B[43m_array_strptime_with_fallback\u001B[49m\u001B[43m(\u001B[49m\u001B[43marg\u001B[49m\u001B[43m,\u001B[49m\u001B[43m \u001B[49m\u001B[43mname\u001B[49m\u001B[43m,\u001B[49m\u001B[43m \u001B[49m\u001B[43mutc\u001B[49m\u001B[43m,\u001B[49m\u001B[43m \u001B[49m\u001B[38;5;28;43mformat\u001B[39;49m\u001B[43m,\u001B[49m\u001B[43m \u001B[49m\u001B[43mexact\u001B[49m\u001B[43m,\u001B[49m\u001B[43m \u001B[49m\u001B[43merrors\u001B[49m\u001B[43m)\u001B[49m\n\u001B[0;32m    435\u001B[0m result, tz_parsed \u001B[38;5;241m=\u001B[39m objects_to_datetime64(\n\u001B[0;32m    436\u001B[0m     arg,\n\u001B[0;32m    437\u001B[0m     dayfirst\u001B[38;5;241m=\u001B[39mdayfirst,\n\u001B[1;32m   (...)\u001B[0m\n\u001B[0;32m    441\u001B[0m     allow_object\u001B[38;5;241m=\u001B[39m\u001B[38;5;28;01mTrue\u001B[39;00m,\n\u001B[0;32m    442\u001B[0m )\n\u001B[0;32m    444\u001B[0m \u001B[38;5;28;01mif\u001B[39;00m tz_parsed \u001B[38;5;129;01mis\u001B[39;00m \u001B[38;5;129;01mnot\u001B[39;00m \u001B[38;5;28;01mNone\u001B[39;00m:\n\u001B[0;32m    445\u001B[0m     \u001B[38;5;66;03m# We can take a shortcut since the datetime64 numpy array\u001B[39;00m\n\u001B[0;32m    446\u001B[0m     \u001B[38;5;66;03m# is in UTC\u001B[39;00m\n",
      "File \u001B[1;32mC:\\SPSE_JECNA\\PV\\exercises_school\\21_lecture\\.venv\\Lib\\site-packages\\pandas\\core\\tools\\datetimes.py:467\u001B[0m, in \u001B[0;36m_array_strptime_with_fallback\u001B[1;34m(arg, name, utc, fmt, exact, errors)\u001B[0m\n\u001B[0;32m    456\u001B[0m \u001B[38;5;28;01mdef\u001B[39;00m \u001B[38;5;21m_array_strptime_with_fallback\u001B[39m(\n\u001B[0;32m    457\u001B[0m     arg,\n\u001B[0;32m    458\u001B[0m     name,\n\u001B[1;32m   (...)\u001B[0m\n\u001B[0;32m    462\u001B[0m     errors: \u001B[38;5;28mstr\u001B[39m,\n\u001B[0;32m    463\u001B[0m ) \u001B[38;5;241m-\u001B[39m\u001B[38;5;241m>\u001B[39m Index:\n\u001B[0;32m    464\u001B[0m \u001B[38;5;250m    \u001B[39m\u001B[38;5;124;03m\"\"\"\u001B[39;00m\n\u001B[0;32m    465\u001B[0m \u001B[38;5;124;03m    Call array_strptime, with fallback behavior depending on 'errors'.\u001B[39;00m\n\u001B[0;32m    466\u001B[0m \u001B[38;5;124;03m    \"\"\"\u001B[39;00m\n\u001B[1;32m--> 467\u001B[0m     result, tz_out \u001B[38;5;241m=\u001B[39m \u001B[43marray_strptime\u001B[49m\u001B[43m(\u001B[49m\u001B[43marg\u001B[49m\u001B[43m,\u001B[49m\u001B[43m \u001B[49m\u001B[43mfmt\u001B[49m\u001B[43m,\u001B[49m\u001B[43m \u001B[49m\u001B[43mexact\u001B[49m\u001B[38;5;241;43m=\u001B[39;49m\u001B[43mexact\u001B[49m\u001B[43m,\u001B[49m\u001B[43m \u001B[49m\u001B[43merrors\u001B[49m\u001B[38;5;241;43m=\u001B[39;49m\u001B[43merrors\u001B[49m\u001B[43m,\u001B[49m\u001B[43m \u001B[49m\u001B[43mutc\u001B[49m\u001B[38;5;241;43m=\u001B[39;49m\u001B[43mutc\u001B[49m\u001B[43m)\u001B[49m\n\u001B[0;32m    468\u001B[0m     \u001B[38;5;28;01mif\u001B[39;00m tz_out \u001B[38;5;129;01mis\u001B[39;00m \u001B[38;5;129;01mnot\u001B[39;00m \u001B[38;5;28;01mNone\u001B[39;00m:\n\u001B[0;32m    469\u001B[0m         unit \u001B[38;5;241m=\u001B[39m np\u001B[38;5;241m.\u001B[39mdatetime_data(result\u001B[38;5;241m.\u001B[39mdtype)[\u001B[38;5;241m0\u001B[39m]\n",
      "File \u001B[1;32mstrptime.pyx:501\u001B[0m, in \u001B[0;36mpandas._libs.tslibs.strptime.array_strptime\u001B[1;34m()\u001B[0m\n",
      "File \u001B[1;32mstrptime.pyx:451\u001B[0m, in \u001B[0;36mpandas._libs.tslibs.strptime.array_strptime\u001B[1;34m()\u001B[0m\n",
      "File \u001B[1;32mstrptime.pyx:583\u001B[0m, in \u001B[0;36mpandas._libs.tslibs.strptime._parse_with_format\u001B[1;34m()\u001B[0m\n",
      "\u001B[1;31mValueError\u001B[0m: time data \"19660701\" doesn't match format \"%Y-%m-%d\", at position 8. You might want to try:\n    - passing `format` if your strings have a consistent format;\n    - passing `format='ISO8601'` if your strings are all ISO8601 but not necessarily in exactly the same format;\n    - passing `format='mixed'`, and the format will be inferred for each element individually. You might want to use `dayfirst` alongside this."
     ]
    }
   ],
   "source": [
    "novy_sloupec_s_datumy = pd.to_datetime(df['date of birth'])\n",
    "novy_sloupec_s_datumy"
   ],
   "metadata": {
    "collapsed": false,
    "ExecuteTime": {
     "end_time": "2024-03-11T13:28:15.263898100Z",
     "start_time": "2024-03-11T13:28:14.872420600Z"
    }
   },
   "id": "c04ce12917e22f7a",
   "execution_count": 44
  },
  {
   "cell_type": "markdown",
   "source": [
    "# 21.6 Pandas a čištění dat - špatná data\n",
    "Tak pokračujeme v čištění. Další téma jsou špatná data. Znáte to, zase evergreen... záporná výška, věk osoby v řádu tisiců, apod. Nyní se podívejte na soubor z úlohy 21.3 na sloupec education, který odpovídá přiloženému číselníku. Co je špatně na řádku 5 a 20?\n",
    "\n",
    "Jak to spravit? Snadné... použijeme loc[] a ručně opravíme. Například 16 je asi vysoká škola, logicky - kdo jiný by si to tam napsal...\n",
    "\n",
    "df.loc[5, 'education'] = 5\n",
    "\n",
    "df \n",
    "\n",
    "No ale ruční opravy mohou být dost zdlouhavé, naštěstí... nejsme mimoni a umíme cyklus a podmínku, takže toto je určitě lepší:\n",
    "\n",
    "\n",
    "for x in df.index:\n",
    "    if df.loc[x, \"education\"] < 1:\n",
    "       df.loc[x, \"education\"] = 1\n",
    "df\n",
    "\n",
    "No a takhle opravíte hodně věcí, typicky použite i regulární výraz..."
   ],
   "metadata": {
    "collapsed": false
   },
   "id": "d5928608dc7e1434"
  },
  {
   "cell_type": "code",
   "outputs": [
    {
     "data": {
      "text/plain": "    is a male date of birth  gross salary  number of children  education  \\\n0         0.0    1965-09-30      55262.20                 1.0        3.0   \n1         1.0    1971-08-14      71776.00                 1.0        5.0   \n3         0.0    1998-12-17      63001.40                 0.0        3.0   \n4         0.0    1991-10-24      45777.00                 2.0        1.0   \n5         0.0    1993-11-04      48737.40                 1.0        5.0   \n6         1.0    1989-03-18      36349.30                 4.0        1.0   \n7         1.0    1989-03-18      36349.30                 4.0        1.0   \n8         1.0    1989-03-18      36349.30                 4.0        1.0   \n9         0.0      19660701      46999.00                 0.0        2.0   \n11        1.0    2002-01-28      74599.30                 0.0        4.0   \n12        0.0    1951-01-09      31773.00                 3.0        1.0   \n14        1.0    1988-09-08      53508.23                 4.0        3.0   \n15        1.0    1992-05-16      42053.00                 2.0        3.0   \n16        0.0    1976-06-10      82974.00                 0.0        5.0   \n17        1.0    1992-12-24      53916.48                 1.0        2.0   \n19        0.0    1975-06-28      32286.00                 2.0        1.0   \n20        1.0    1966-12-29      56483.00                 3.0        1.0   \n21        0.0    1953-09-20      57568.14                 1.0        1.0   \n22        0.0    1965-10-21      38766.50                 3.0        1.0   \n23        1.0    1994-11-21      46011.51                 2.0        2.0   \n24        0.0    1991-01-14      69384.30                 2.0        4.0   \n25        1.0    1989-12-30      89481.10                 1.0        5.0   \n\n                  region  \n0     Hlavní město Praha  \n1     Hlavní město Praha  \n3     Hlavní město Praha  \n4   Moravskoslezský kraj  \n5     Hlavní město Praha  \n6   Moravskoslezský kraj  \n7   Moravskoslezský kraj  \n8   Moravskoslezský kraj  \n9   Moravskoslezský kraj  \n11      Středočeský kraj  \n12      Středočeský kraj  \n14  Moravskoslezský kraj  \n15    Hlavní město Praha  \n16    Hlavní město Praha  \n17      Středočeský kraj  \n19    Hlavní město Praha  \n20      Středočeský kraj  \n21    Hlavní město Praha  \n22  Moravskoslezský kraj  \n23      Středočeský kraj  \n24    Hlavní město Praha  \n25  Moravskoslezský kraj  ",
      "text/html": "<div>\n<style scoped>\n    .dataframe tbody tr th:only-of-type {\n        vertical-align: middle;\n    }\n\n    .dataframe tbody tr th {\n        vertical-align: top;\n    }\n\n    .dataframe thead th {\n        text-align: right;\n    }\n</style>\n<table border=\"1\" class=\"dataframe\">\n  <thead>\n    <tr style=\"text-align: right;\">\n      <th></th>\n      <th>is a male</th>\n      <th>date of birth</th>\n      <th>gross salary</th>\n      <th>number of children</th>\n      <th>education</th>\n      <th>region</th>\n    </tr>\n  </thead>\n  <tbody>\n    <tr>\n      <th>0</th>\n      <td>0.0</td>\n      <td>1965-09-30</td>\n      <td>55262.20</td>\n      <td>1.0</td>\n      <td>3.0</td>\n      <td>Hlavní město Praha</td>\n    </tr>\n    <tr>\n      <th>1</th>\n      <td>1.0</td>\n      <td>1971-08-14</td>\n      <td>71776.00</td>\n      <td>1.0</td>\n      <td>5.0</td>\n      <td>Hlavní město Praha</td>\n    </tr>\n    <tr>\n      <th>3</th>\n      <td>0.0</td>\n      <td>1998-12-17</td>\n      <td>63001.40</td>\n      <td>0.0</td>\n      <td>3.0</td>\n      <td>Hlavní město Praha</td>\n    </tr>\n    <tr>\n      <th>4</th>\n      <td>0.0</td>\n      <td>1991-10-24</td>\n      <td>45777.00</td>\n      <td>2.0</td>\n      <td>1.0</td>\n      <td>Moravskoslezský kraj</td>\n    </tr>\n    <tr>\n      <th>5</th>\n      <td>0.0</td>\n      <td>1993-11-04</td>\n      <td>48737.40</td>\n      <td>1.0</td>\n      <td>5.0</td>\n      <td>Hlavní město Praha</td>\n    </tr>\n    <tr>\n      <th>6</th>\n      <td>1.0</td>\n      <td>1989-03-18</td>\n      <td>36349.30</td>\n      <td>4.0</td>\n      <td>1.0</td>\n      <td>Moravskoslezský kraj</td>\n    </tr>\n    <tr>\n      <th>7</th>\n      <td>1.0</td>\n      <td>1989-03-18</td>\n      <td>36349.30</td>\n      <td>4.0</td>\n      <td>1.0</td>\n      <td>Moravskoslezský kraj</td>\n    </tr>\n    <tr>\n      <th>8</th>\n      <td>1.0</td>\n      <td>1989-03-18</td>\n      <td>36349.30</td>\n      <td>4.0</td>\n      <td>1.0</td>\n      <td>Moravskoslezský kraj</td>\n    </tr>\n    <tr>\n      <th>9</th>\n      <td>0.0</td>\n      <td>19660701</td>\n      <td>46999.00</td>\n      <td>0.0</td>\n      <td>2.0</td>\n      <td>Moravskoslezský kraj</td>\n    </tr>\n    <tr>\n      <th>11</th>\n      <td>1.0</td>\n      <td>2002-01-28</td>\n      <td>74599.30</td>\n      <td>0.0</td>\n      <td>4.0</td>\n      <td>Středočeský kraj</td>\n    </tr>\n    <tr>\n      <th>12</th>\n      <td>0.0</td>\n      <td>1951-01-09</td>\n      <td>31773.00</td>\n      <td>3.0</td>\n      <td>1.0</td>\n      <td>Středočeský kraj</td>\n    </tr>\n    <tr>\n      <th>14</th>\n      <td>1.0</td>\n      <td>1988-09-08</td>\n      <td>53508.23</td>\n      <td>4.0</td>\n      <td>3.0</td>\n      <td>Moravskoslezský kraj</td>\n    </tr>\n    <tr>\n      <th>15</th>\n      <td>1.0</td>\n      <td>1992-05-16</td>\n      <td>42053.00</td>\n      <td>2.0</td>\n      <td>3.0</td>\n      <td>Hlavní město Praha</td>\n    </tr>\n    <tr>\n      <th>16</th>\n      <td>0.0</td>\n      <td>1976-06-10</td>\n      <td>82974.00</td>\n      <td>0.0</td>\n      <td>5.0</td>\n      <td>Hlavní město Praha</td>\n    </tr>\n    <tr>\n      <th>17</th>\n      <td>1.0</td>\n      <td>1992-12-24</td>\n      <td>53916.48</td>\n      <td>1.0</td>\n      <td>2.0</td>\n      <td>Středočeský kraj</td>\n    </tr>\n    <tr>\n      <th>19</th>\n      <td>0.0</td>\n      <td>1975-06-28</td>\n      <td>32286.00</td>\n      <td>2.0</td>\n      <td>1.0</td>\n      <td>Hlavní město Praha</td>\n    </tr>\n    <tr>\n      <th>20</th>\n      <td>1.0</td>\n      <td>1966-12-29</td>\n      <td>56483.00</td>\n      <td>3.0</td>\n      <td>1.0</td>\n      <td>Středočeský kraj</td>\n    </tr>\n    <tr>\n      <th>21</th>\n      <td>0.0</td>\n      <td>1953-09-20</td>\n      <td>57568.14</td>\n      <td>1.0</td>\n      <td>1.0</td>\n      <td>Hlavní město Praha</td>\n    </tr>\n    <tr>\n      <th>22</th>\n      <td>0.0</td>\n      <td>1965-10-21</td>\n      <td>38766.50</td>\n      <td>3.0</td>\n      <td>1.0</td>\n      <td>Moravskoslezský kraj</td>\n    </tr>\n    <tr>\n      <th>23</th>\n      <td>1.0</td>\n      <td>1994-11-21</td>\n      <td>46011.51</td>\n      <td>2.0</td>\n      <td>2.0</td>\n      <td>Středočeský kraj</td>\n    </tr>\n    <tr>\n      <th>24</th>\n      <td>0.0</td>\n      <td>1991-01-14</td>\n      <td>69384.30</td>\n      <td>2.0</td>\n      <td>4.0</td>\n      <td>Hlavní město Praha</td>\n    </tr>\n    <tr>\n      <th>25</th>\n      <td>1.0</td>\n      <td>1989-12-30</td>\n      <td>89481.10</td>\n      <td>1.0</td>\n      <td>5.0</td>\n      <td>Moravskoslezský kraj</td>\n    </tr>\n  </tbody>\n</table>\n</div>"
     },
     "execution_count": 45,
     "metadata": {},
     "output_type": "execute_result"
    }
   ],
   "source": [
    "df.loc[5, 'education'] = 5\n",
    "\n",
    "for x in df.index:\n",
    "    if df.loc[x, \"education\"] < 1:\n",
    "       df.loc[x, \"education\"] = 1\n",
    "df"
   ],
   "metadata": {
    "collapsed": false,
    "ExecuteTime": {
     "end_time": "2024-03-11T13:29:01.686332600Z",
     "start_time": "2024-03-11T13:29:01.627021500Z"
    }
   },
   "id": "9f26eaab5c0d759d",
   "execution_count": 45
  },
  {
   "cell_type": "markdown",
   "source": [
    "# 21.7 Pandas a čištění dat - odstranění duplicit\n",
    "Už víme, že v datech bývá nepořádek. Typické je, že data vznikají nějakým loggerem, který automaticky třeba něco měří a zapisuje. Zpravidla Arduino nebo RPi... a víme také, že se to někdy prostě sekne a napíše to data 2x, nebo 3x za sebou. Stalo se to i tady? Co řádky 6,7,8 nejsou Vám podezřelé?\n",
    "\n",
    "Jak to spravit. Určitě na to bude funkce. Ano je. Zkuste příkaz:\n",
    "\n",
    "df.duplicated()\n",
    "\n",
    "Hned vypíše, které řádky jsou špatně. A jak je odstranit? Na to je taky funkce..\n",
    "\n",
    "df.drop_duplicates(inplace = True)\n",
    "\n",
    "Všiměte si atributu inplace, kterým říkáme, že se to má spravit v proměnné df a ne vracet nový čistý výsledek..."
   ],
   "metadata": {
    "collapsed": false
   },
   "id": "7ff605bab4a48c35"
  },
  {
   "cell_type": "code",
   "outputs": [
    {
     "data": {
      "text/plain": "    is a male date of birth  gross salary  number of children  education  \\\n0         0.0    1965-09-30      55262.20                 1.0        3.0   \n1         1.0    1971-08-14      71776.00                 1.0        5.0   \n3         0.0    1998-12-17      63001.40                 0.0        3.0   \n4         0.0    1991-10-24      45777.00                 2.0        1.0   \n5         0.0    1993-11-04      48737.40                 1.0        5.0   \n6         1.0    1989-03-18      36349.30                 4.0        1.0   \n9         0.0      19660701      46999.00                 0.0        2.0   \n11        1.0    2002-01-28      74599.30                 0.0        4.0   \n12        0.0    1951-01-09      31773.00                 3.0        1.0   \n14        1.0    1988-09-08      53508.23                 4.0        3.0   \n15        1.0    1992-05-16      42053.00                 2.0        3.0   \n16        0.0    1976-06-10      82974.00                 0.0        5.0   \n17        1.0    1992-12-24      53916.48                 1.0        2.0   \n19        0.0    1975-06-28      32286.00                 2.0        1.0   \n20        1.0    1966-12-29      56483.00                 3.0        1.0   \n21        0.0    1953-09-20      57568.14                 1.0        1.0   \n22        0.0    1965-10-21      38766.50                 3.0        1.0   \n23        1.0    1994-11-21      46011.51                 2.0        2.0   \n24        0.0    1991-01-14      69384.30                 2.0        4.0   \n25        1.0    1989-12-30      89481.10                 1.0        5.0   \n\n                  region  \n0     Hlavní město Praha  \n1     Hlavní město Praha  \n3     Hlavní město Praha  \n4   Moravskoslezský kraj  \n5     Hlavní město Praha  \n6   Moravskoslezský kraj  \n9   Moravskoslezský kraj  \n11      Středočeský kraj  \n12      Středočeský kraj  \n14  Moravskoslezský kraj  \n15    Hlavní město Praha  \n16    Hlavní město Praha  \n17      Středočeský kraj  \n19    Hlavní město Praha  \n20      Středočeský kraj  \n21    Hlavní město Praha  \n22  Moravskoslezský kraj  \n23      Středočeský kraj  \n24    Hlavní město Praha  \n25  Moravskoslezský kraj  ",
      "text/html": "<div>\n<style scoped>\n    .dataframe tbody tr th:only-of-type {\n        vertical-align: middle;\n    }\n\n    .dataframe tbody tr th {\n        vertical-align: top;\n    }\n\n    .dataframe thead th {\n        text-align: right;\n    }\n</style>\n<table border=\"1\" class=\"dataframe\">\n  <thead>\n    <tr style=\"text-align: right;\">\n      <th></th>\n      <th>is a male</th>\n      <th>date of birth</th>\n      <th>gross salary</th>\n      <th>number of children</th>\n      <th>education</th>\n      <th>region</th>\n    </tr>\n  </thead>\n  <tbody>\n    <tr>\n      <th>0</th>\n      <td>0.0</td>\n      <td>1965-09-30</td>\n      <td>55262.20</td>\n      <td>1.0</td>\n      <td>3.0</td>\n      <td>Hlavní město Praha</td>\n    </tr>\n    <tr>\n      <th>1</th>\n      <td>1.0</td>\n      <td>1971-08-14</td>\n      <td>71776.00</td>\n      <td>1.0</td>\n      <td>5.0</td>\n      <td>Hlavní město Praha</td>\n    </tr>\n    <tr>\n      <th>3</th>\n      <td>0.0</td>\n      <td>1998-12-17</td>\n      <td>63001.40</td>\n      <td>0.0</td>\n      <td>3.0</td>\n      <td>Hlavní město Praha</td>\n    </tr>\n    <tr>\n      <th>4</th>\n      <td>0.0</td>\n      <td>1991-10-24</td>\n      <td>45777.00</td>\n      <td>2.0</td>\n      <td>1.0</td>\n      <td>Moravskoslezský kraj</td>\n    </tr>\n    <tr>\n      <th>5</th>\n      <td>0.0</td>\n      <td>1993-11-04</td>\n      <td>48737.40</td>\n      <td>1.0</td>\n      <td>5.0</td>\n      <td>Hlavní město Praha</td>\n    </tr>\n    <tr>\n      <th>6</th>\n      <td>1.0</td>\n      <td>1989-03-18</td>\n      <td>36349.30</td>\n      <td>4.0</td>\n      <td>1.0</td>\n      <td>Moravskoslezský kraj</td>\n    </tr>\n    <tr>\n      <th>9</th>\n      <td>0.0</td>\n      <td>19660701</td>\n      <td>46999.00</td>\n      <td>0.0</td>\n      <td>2.0</td>\n      <td>Moravskoslezský kraj</td>\n    </tr>\n    <tr>\n      <th>11</th>\n      <td>1.0</td>\n      <td>2002-01-28</td>\n      <td>74599.30</td>\n      <td>0.0</td>\n      <td>4.0</td>\n      <td>Středočeský kraj</td>\n    </tr>\n    <tr>\n      <th>12</th>\n      <td>0.0</td>\n      <td>1951-01-09</td>\n      <td>31773.00</td>\n      <td>3.0</td>\n      <td>1.0</td>\n      <td>Středočeský kraj</td>\n    </tr>\n    <tr>\n      <th>14</th>\n      <td>1.0</td>\n      <td>1988-09-08</td>\n      <td>53508.23</td>\n      <td>4.0</td>\n      <td>3.0</td>\n      <td>Moravskoslezský kraj</td>\n    </tr>\n    <tr>\n      <th>15</th>\n      <td>1.0</td>\n      <td>1992-05-16</td>\n      <td>42053.00</td>\n      <td>2.0</td>\n      <td>3.0</td>\n      <td>Hlavní město Praha</td>\n    </tr>\n    <tr>\n      <th>16</th>\n      <td>0.0</td>\n      <td>1976-06-10</td>\n      <td>82974.00</td>\n      <td>0.0</td>\n      <td>5.0</td>\n      <td>Hlavní město Praha</td>\n    </tr>\n    <tr>\n      <th>17</th>\n      <td>1.0</td>\n      <td>1992-12-24</td>\n      <td>53916.48</td>\n      <td>1.0</td>\n      <td>2.0</td>\n      <td>Středočeský kraj</td>\n    </tr>\n    <tr>\n      <th>19</th>\n      <td>0.0</td>\n      <td>1975-06-28</td>\n      <td>32286.00</td>\n      <td>2.0</td>\n      <td>1.0</td>\n      <td>Hlavní město Praha</td>\n    </tr>\n    <tr>\n      <th>20</th>\n      <td>1.0</td>\n      <td>1966-12-29</td>\n      <td>56483.00</td>\n      <td>3.0</td>\n      <td>1.0</td>\n      <td>Středočeský kraj</td>\n    </tr>\n    <tr>\n      <th>21</th>\n      <td>0.0</td>\n      <td>1953-09-20</td>\n      <td>57568.14</td>\n      <td>1.0</td>\n      <td>1.0</td>\n      <td>Hlavní město Praha</td>\n    </tr>\n    <tr>\n      <th>22</th>\n      <td>0.0</td>\n      <td>1965-10-21</td>\n      <td>38766.50</td>\n      <td>3.0</td>\n      <td>1.0</td>\n      <td>Moravskoslezský kraj</td>\n    </tr>\n    <tr>\n      <th>23</th>\n      <td>1.0</td>\n      <td>1994-11-21</td>\n      <td>46011.51</td>\n      <td>2.0</td>\n      <td>2.0</td>\n      <td>Středočeský kraj</td>\n    </tr>\n    <tr>\n      <th>24</th>\n      <td>0.0</td>\n      <td>1991-01-14</td>\n      <td>69384.30</td>\n      <td>2.0</td>\n      <td>4.0</td>\n      <td>Hlavní město Praha</td>\n    </tr>\n    <tr>\n      <th>25</th>\n      <td>1.0</td>\n      <td>1989-12-30</td>\n      <td>89481.10</td>\n      <td>1.0</td>\n      <td>5.0</td>\n      <td>Moravskoslezský kraj</td>\n    </tr>\n  </tbody>\n</table>\n</div>"
     },
     "execution_count": 46,
     "metadata": {},
     "output_type": "execute_result"
    }
   ],
   "source": [
    "df.duplicated()\n",
    "df.drop_duplicates(inplace = True)\n",
    "df"
   ],
   "metadata": {
    "collapsed": false,
    "ExecuteTime": {
     "end_time": "2024-03-11T13:29:28.002050400Z",
     "start_time": "2024-03-11T13:29:27.951011700Z"
    }
   },
   "id": "e8c224e7eba6198d",
   "execution_count": 46
  },
  {
   "cell_type": "markdown",
   "source": [
    "# 21.8 Matplotlib rychlý úvod pro začátečníka\n",
    "Knihovna matplotlib je velmi populární knihovna na tvorbu grafů. Grafy často potřebujeme k popisu dat. Je snadné ji používat a je plně integrovatelná jak s numpy, pandas, tak i se všemi knihovnami na strojové účení. \n",
    "\n",
    "Importu se zpravidla takto:\n",
    "\n",
    "import matplotlib.pyplot as plt\n",
    "\n",
    "ale někdy prostě jen:\n",
    "\n",
    "import matplotlib\n",
    "\n",
    "Knihovna zobrazuje data. Data musíte nejdřív připravit, vygenrovat, vyčistit, vypočítat apod. K tomu slouží typicky pandas a numpy. Zkusme si jednoduchý příklad:\n",
    "\n",
    "import matplotlib.pyplot as plt\n",
    "import numpy as np\n",
    "\n",
    "xpoints = np.array([0, 6])\n",
    "ypoints = np.array([0, 250])\n",
    "\n",
    "plt.plot(xpoints, ypoints)\n",
    "plt.show()\n",
    "\n",
    "Manageri mají rádi koláčové grafy, to se jen místo plot napíše pie a připraví se jednorozměrná data, která v součtu dají 100\n",
    "\n",
    "import matplotlib.pyplot as plt\n",
    "import numpy as np\n",
    "\n",
    "y = np.array([35, 25, 25, 15])\n",
    "\n",
    "plt.pieAno\n",
    "plt.show() \n",
    "\n",
    "Důležité je umět to nejen s numpy číselnými řadami, ale i s panda. Nejčastěji pro popis dat potřebujeme histogram, který nám graficky říká co je v datasetu za data. Zkuste teď udělat histogram z úlohy 21.3. ze sloupce počet děti:\n",
    "\n",
    "import matplotlib.pyplot as plt\n",
    "\n",
    "plt.hist(df['number of children'])\n",
    "\n",
    "plt.show()\n",
    "\n",
    "A lze to i jednodušeji přímo pomocí pandas jako klasický sloupcový graf bar s využitím funkce value_counts:\n",
    "\n",
    "\n",
    "df['number of children'].value_counts().plot.bar()\n",
    "\n",
    "Sice je to seřazené, takže histogram rozhodně \"méně kecá\" než sloupcové grafy, ale používá se obojí. \n",
    "\n",
    "Za zmínku stojí také bodový graf - pozor ten použijte spolu s histogramem nejčastěji. Zkuste si například vynést závislost vzdělání a výšky platu:\n",
    "\n",
    "plt.scatter(df['education'], df['gross salary'])\n",
    "plt.show()\n",
    "\n",
    "Vidíte, kdo se učí, zpravidla je lépe finančně ohodnocen a tak se naučtě, že scatter nekecá a nezkresluje nikdy a používejte ho."
   ],
   "metadata": {
    "collapsed": false
   },
   "id": "7b53cbdeac9ce070"
  },
  {
   "cell_type": "code",
   "outputs": [
    {
     "data": {
      "text/plain": "<Figure size 640x480 with 1 Axes>",
      "image/png": "[encoded data removed]"
     },
     "metadata": {},
     "output_type": "display_data"
    }
   ],
   "source": [
    "import matplotlib.pyplot as plt\n",
    "import numpy as np\n",
    "\n",
    "xpoints = np.array([0, 6])\n",
    "ypoints = np.array([0, 250])\n",
    "\n",
    "plt.plot(xpoints, ypoints)\n",
    "plt.show()"
   ],
   "metadata": {
    "collapsed": false,
    "ExecuteTime": {
     "end_time": "2024-03-11T13:31:47.627753Z",
     "start_time": "2024-03-11T13:31:45.682287500Z"
    }
   },
   "id": "8cbc2e3a021d457e",
   "execution_count": 48
  }
 ],
 "metadata": {
  "kernelspec": {
   "display_name": "Python 3",
   "language": "python",
   "name": "python3"
  },
  "language_info": {
   "codemirror_mode": {
    "name": "ipython",
    "version": 2
   },
   "file_extension": ".py",
   "mimetype": "text/x-python",
   "name": "python",
   "nbconvert_exporter": "python",
   "pygments_lexer": "ipython2",
   "version": "2.7.6"
  }
 },
 "nbformat": 4,
 "nbformat_minor": 5
}
