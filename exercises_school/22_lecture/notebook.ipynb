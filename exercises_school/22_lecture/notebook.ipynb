{
 "cells": [
  {
   "cell_type": "markdown",
   "source": [
    "# 22.1\n",
    "Pro tuto úlohu požijeme dataset:\n",
    "\n",
    "https://raw.githubusercontent.com/mlcollege/ai-academy/main/06-Regrese/data/ceny_domu.csv\n",
    "\n",
    "Nejprve pomocí Pandas načteme dataset, například do nového Jupyter notebooku, nebo do Vašeho IDE:\n",
    "\n",
    "import pandas as pd\n",
    "`data = pd.read_csv(\"https://raw.githubusercontent.com/mlcollege/ai-academy/main/06-Regrese/data/ceny_domu.csv\", sep=',')`\n",
    "\n",
    "Data obsahují následující data a atributy o prodejech domů:\n",
    "- stav je stav budovy na škále 1 až 10, kde 1 je nejhorší a 10 nejlepší.\n",
    "- plocha je obytná plocha budovy v metrech čtverečních\n",
    "- rok_stavby je rok výstavby domu\n",
    "- rok_prodeje je rok, ve kterém byl dům prodaný\n",
    "- cena je cena, za kterou se dům prodal\n",
    "Ověřte, že je tomu tak vypsání prvního několika záznamů z dat. Také zkontrolujte hodnoty, kterém tam jsou? Jsou tam čísla celá nebo desetinná? Jsou tam stringy?"
   ],
   "metadata": {
    "collapsed": false
   },
   "id": "98176b2a43e9de48"
  },
  {
   "cell_type": "code",
   "outputs": [
    {
     "data": {
      "text/plain": "kvalita          int64\nplocha           int64\nrok_stavby       int64\nrok_prodeje      int64\ncena           float64\ndtype: object"
     },
     "execution_count": 4,
     "metadata": {},
     "output_type": "execute_result"
    }
   ],
   "source": [
    "import pandas as pd\n",
    "data = pd.read_csv(\"https://raw.githubusercontent.com/mlcollege/ai-academy/main/06-Regrese/data/ceny_domu.csv\", sep=',')\n",
    "\n",
    "data.dtypes"
   ],
   "metadata": {
    "collapsed": false,
    "ExecuteTime": {
     "end_time": "2024-03-18T12:30:15.439959100Z",
     "start_time": "2024-03-18T12:30:15.289859100Z"
    }
   },
   "id": "512b738fc3641b73",
   "execution_count": 4
  },
  {
   "cell_type": "markdown",
   "source": [
    "# 22.2\n",
    "V této úloze je třeba rozmyslet jaké atributy budeme hádat a jaké použijeme pro učení. My budeme hádata cenu na základě kvality, plochy, data stavby a data prodeje.\n",
    "\n",
    "Vytvořte tedy dvě proměnné, kam uložíte názvy atributů z dat načtených v úloze 20.1., například takto:\n",
    "\n",
    "input_features = ['kvalita', 'plocha', 'datum_stavby',  'datum_prodeje']\n",
    "target_feature = 'cena'\n",
    "Následně bude třeba rozdělit data na trénovací a testovací. My zvolíme taktiku, že 90% dat bude trénovacích a 10% testovacích. Použijeme metodu train_test_split() z knohovny sklearn, která rozdělení provede, například takto:\n",
    "\n",
    "from sklearn.model_selection import train_test_split\n",
    "\n",
    "X_train, X_test, y_train, y_test = train_test_split(data[input_features], data[target_feature], test_size=0.1)\n",
    "Vaším úkolem je:\n",
    "\n",
    "1) zjistit co je v proměnných X_train, X_test, y_train, y_test \n",
    "\n",
    "2) kolik prvků je v trénovací a testovací množině a je to skutečně v poměru 90% ku 10%?\n",
    "\n",
    "3) jak změníte poměr na 80% ku 20% ? \n",
    "\n",
    "input_features = ['kvalita', 'plocha', 'rok_stavby',  'rok_prodeje']\n",
    "target_feature = 'cena'\n",
    "\n",
    "from sklearn.model_selection import train_test_split\n",
    "\n",
    "X_train, X_test, y_train, y_test = train_test_split(data[input_features], data[target_feature], test_size=0.1)"
   ],
   "metadata": {
    "collapsed": false
   },
   "id": "4faaae4f1f738239"
  },
  {
   "cell_type": "code",
   "outputs": [
    {
     "name": "stdout",
     "output_type": "stream",
     "text": [
      "      kvalita  plocha  rok_stavby  rok_prodeje\n",
      "403         8     210        1998         2006\n",
      "1214        5      92        1962         2006\n",
      "65          8     229        2004         2007\n",
      "676         4     164        1900         2006\n",
      "572         7     157        2009         2009\n",
      "...       ...     ...         ...          ...\n",
      "447         7     175        1998         2006\n",
      "339         6     112        1958         2009\n",
      "1058        9     202        2008         2009\n",
      "1231        5     110        1962         2006\n",
      "1023        7     139        2005         2008\n",
      "\n",
      "[1314 rows x 4 columns]\n",
      "      kvalita  plocha  rok_stavby  rok_prodeje\n",
      "290         8     178        2006         2006\n",
      "1422        6      78        2003         2008\n",
      "1395        8     230        2005         2007\n",
      "814         5     116        1918         2006\n",
      "622         5      91        1977         2009\n",
      "...       ...     ...         ...          ...\n",
      "463         6     154        1934         2008\n",
      "680         6      85        1980         2010\n",
      "1233        5     110        1959         2010\n",
      "1369        8     154        2003         2010\n",
      "715         6     125        1974         2009\n",
      "\n",
      "[146 rows x 4 columns]\n",
      "403     6.45\n",
      "1214    3.36\n",
      "65      7.92\n",
      "676     2.17\n",
      "572     5.61\n",
      "        ... \n",
      "447     5.00\n",
      "339     3.88\n",
      "1058    8.38\n",
      "1231    3.31\n",
      "1023    4.78\n",
      "Name: cena, Length: 1314, dtype: float64\n",
      "290     5.83\n",
      "1422    3.41\n",
      "1395    7.03\n",
      "814     2.90\n",
      "622     3.38\n",
      "        ... \n",
      "463     4.72\n",
      "680     3.58\n",
      "1233    3.55\n",
      "1369    5.80\n",
      "715     4.12\n",
      "Name: cena, Length: 146, dtype: float64\n",
      "1314\n"
     ]
    }
   ],
   "source": [
    "from sklearn.model_selection import train_test_split\n",
    "input_features = ['kvalita', 'plocha', 'rok_stavby',  'rok_prodeje']\n",
    "target_feature = 'cena'\n",
    "X_train, X_test, y_train, y_test = train_test_split(data[input_features], data[target_feature], test_size=0.1)\n",
    "\n",
    "# ukol 1\n",
    "print(X_train)\n",
    "print(X_test)\n",
    "print(y_train)\n",
    "print(y_test)\n",
    "# ukol 2\n",
    "print(len(X_train))\n",
    "# ukol 3\n",
    "X_train, X_test, y_train, y_test = train_test_split(data[input_features], data[target_feature], test_size=0.2)"
   ],
   "metadata": {
    "collapsed": false,
    "ExecuteTime": {
     "end_time": "2024-03-18T12:37:07.961502900Z",
     "start_time": "2024-03-18T12:37:07.904654600Z"
    }
   },
   "id": "a29de516127bedc9",
   "execution_count": 10
  },
  {
   "cell_type": "markdown",
   "source": [
    "# 22.3\n",
    "\n",
    "Nyní můžeme natrénovat náš model. K tomu jso třeba dvě proměnné X_train a y_train, přičemž v X_train jsou data na kterých se budeme učit a v y_train jsou výsledky. K tréninku použijeme už hotový algoritmus LinearRegression() z knihovny sklearn. Nejprve mode vytvoříme, pak ho pomocí metody fit() natrénujeme:\n",
    "\n",
    "from sklearn.linear_model import LinearRegression\n",
    "model = LinearRegression()\n",
    "model.fit(X_train, y_train)\n",
    "Model je reprezetnací klasické funkce y = ax+b. Přičemž a je vektor všech atributů a b je číslo. Pro ověření si můžeme tyto hodnoty vypsat, abychom matematicky viděli jak to dopadlo:\n",
    "\n",
    "print (model.coef_) #koeficienty vstupnich atributu\n",
    "print (model.intercept_) #konstantni posuv linearni kombinace"
   ],
   "metadata": {
    "collapsed": false
   },
   "id": "6ff4916954ddabfb"
  },
  {
   "cell_type": "markdown",
   "source": [
    "Nyní můžeme natrénovat náš model. K tomu jso třeba dvě proměnné X_train a y_train, přičemž v X_train jsou data na kterých se budeme učit a v y_train jsou výsledky. K tréninku použijeme už hotový algoritmus LinearRegression() z knihovny sklearn. Nejprve mode vytvoříme, pak ho pomocí metody fit() natrénujeme:\n",
    "\n",
    "from sklearn.linear_model import LinearRegression\n",
    "model = LinearRegression()\n",
    "model.fit(X_train, y_train)\n",
    "Model je reprezetnací klasické funkce y = ax+b. Přičemž a je vektor všech atributů a b je číslo. Pro ověření si můžeme tyto hodnoty vypsat, abychom matematicky viděli jak to dopadlo:\n",
    "\n",
    "print (model.coef_) #koeficienty vstupnich atributu\n",
    "print (model.intercept_) #konstantni posuv linearni kombinace"
   ],
   "metadata": {
    "collapsed": false
   },
   "id": "a72dcd1eb9323116"
  },
  {
   "cell_type": "code",
   "outputs": [
    {
     "name": "stdout",
     "output_type": "stream",
     "text": [
      "[ 0.59926156  0.01598369  0.01287318 -0.00293274]\n",
      "-20.86753802008177\n"
     ]
    }
   ],
   "source": [
    "from sklearn.linear_model import LinearRegression\n",
    "model = LinearRegression()\n",
    "model.fit(X_train, y_train)\n",
    "print (model.coef_) #koeficienty vstupnich atributu\n",
    "print (model.intercept_) #konstantni posuv linearni kombinace"
   ],
   "metadata": {
    "collapsed": false,
    "ExecuteTime": {
     "end_time": "2024-03-18T12:38:35.569026400Z",
     "start_time": "2024-03-18T12:38:35.495487700Z"
    }
   },
   "id": "a0491e9ef6618acb",
   "execution_count": 12
  },
  {
   "cell_type": "code",
   "outputs": [
    {
     "name": "stdout",
     "output_type": "stream",
     "text": [
      "[ 0.59926156  0.01598369  0.01287318 -0.00293274]\n",
      "-20.86753802008177\n"
     ]
    }
   ],
   "source": [
    "from sklearn.linear_model import LinearRegression\n",
    "model = LinearRegression()\n",
    "model.fit(X_train, y_train)\n",
    "print (model.coef_) #koeficienty vstupnich atributu\n",
    "print (model.intercept_) #konstantni posuv linearni kombinace"
   ],
   "metadata": {
    "collapsed": false,
    "ExecuteTime": {
     "end_time": "2024-03-18T12:38:36.852096500Z",
     "start_time": "2024-03-18T12:38:36.841529500Z"
    }
   },
   "id": "c48a62ae3fec0e17",
   "execution_count": 13
  },
  {
   "cell_type": "markdown",
   "source": [
    "# 22.4\n",
    "\n",
    "Z předchozích příkladů máme  mame natrénovaný model v proměnné model a  máme testovací data v proměnné X_test a testovací správné výsledky v proměnné y_test.\n",
    "\n",
    "Naším úkolem je tak poslat data X_test do našeho modelu a získat výsledky, které bude náš model hádat (predikovat). To uložíme do proměnné y_pred například takto:\n",
    "\n",
    "y_pred = model.predict(X_test)\n",
    "A jsou to výsledky správné? \n",
    "\n",
    "Zkuste vypsat prvních deset výsledků z y_test a y_pred a zjistit o kolik se náš model plete?  "
   ],
   "metadata": {
    "collapsed": false
   },
   "id": "188c0f7079ea20c3"
  },
  {
   "cell_type": "code",
   "outputs": [
    {
     "name": "stdout",
     "output_type": "stream",
     "text": [
      "81      3.84\n",
      "937     6.32\n",
      "1225    3.62\n",
      "874     1.66\n",
      "122     3.40\n",
      "1458    3.55\n",
      "226     7.25\n",
      "234     5.41\n",
      "564     6.70\n",
      "218     7.79\n",
      "Name: cena, dtype: float64\n",
      "[4.54755703 6.17117041 3.72600683 2.90203568 3.64315564 2.93504314\n",
      " 6.86347228 5.51437288 6.49212796 5.29250566]\n"
     ]
    }
   ],
   "source": [
    "y_pred = model.predict(X_test)\n",
    "print(y_test[:10])\n",
    "print(y_pred[:10])"
   ],
   "metadata": {
    "collapsed": false,
    "ExecuteTime": {
     "end_time": "2024-03-18T12:38:39.146544200Z",
     "start_time": "2024-03-18T12:38:39.030635100Z"
    }
   },
   "id": "651ceebcd55c0e3b",
   "execution_count": 14
  },
  {
   "cell_type": "markdown",
   "source": [
    "# 22.5\n",
    "\n",
    "Nyní máme spočítané predikce v proměnné y_pred a správné reálné výsledky v y_test. Abychom mohli říct, jestli a jak je model dobrý, je třeba spočítat MAE (střední absolutní chyba/odchylku) a MSE (střední kvadratickou chybu/odchylku).\n",
    "\n",
    "from sklearn.metrics import mean_absolute_error, mean_squared_error\n",
    "mae = mean_absolute_error(y_test, y_pred)\n",
    "mse = mean_squared_error(y_test, y_pred, squared=False)\n",
    "Jsou výsledné hodnoty dobé nebo špatné? Je model hodně nebo málo chybný? Jak se hodnoty změní když změníte poměr testovacích a trénovacích dat?"
   ],
   "metadata": {
    "collapsed": false
   },
   "id": "76dfb22432cfa539"
  },
  {
   "cell_type": "code",
   "outputs": [
    {
     "name": "stdout",
     "output_type": "stream",
     "text": [
      "0.6890031388055822\n",
      "1.0190157489113099\n"
     ]
    },
    {
     "name": "stderr",
     "output_type": "stream",
     "text": [
      "C:\\SPSE_JECNA\\PV\\exercises_school\\22_lecture\\.venv\\Lib\\site-packages\\sklearn\\metrics\\_regression.py:483: FutureWarning: 'squared' is deprecated in version 1.4 and will be removed in 1.6. To calculate the root mean squared error, use the function'root_mean_squared_error'.\n",
      "  warnings.warn(\n"
     ]
    }
   ],
   "source": [
    "from sklearn.metrics import mean_absolute_error, mean_squared_error\n",
    "\n",
    "mae = mean_absolute_error(y_test, y_pred)\n",
    "mse = mean_squared_error(y_test, y_pred, squared=False)\n",
    "print(mae)\n",
    "print(mse)"
   ],
   "metadata": {
    "collapsed": false,
    "ExecuteTime": {
     "end_time": "2024-03-18T12:52:53.949895Z",
     "start_time": "2024-03-18T12:52:53.936970Z"
    }
   },
   "id": "a4afda35fb8cc3be",
   "execution_count": 26
  },
  {
   "cell_type": "markdown",
   "source": [
    "# 22.6\n",
    "\n",
    "Nyní již mamé kvalitní model, o kterém víme jak je dobrý a potřebujeme jej uložit do soboru. Vaším úkolem je použít dobře známou knihovnu pro serializaci pickle z kapitoly o souborech a uložit model (pouze model, nikoliv data) do binárního souboru muj_model.dat.  (Pokud používáte Jupyter, můžete model uložit do složky /tmp - Jupyter používá běžný linuxový souborový systém ;) \n",
    "\n",
    "Následně zkuste model použít tak, že ho v jiném programu/Jupyteru načtete ze soboru a odhadnete pomocí něj cenu domu, který má následující atributy:\n",
    "\n",
    "kvalita = 8\n",
    "plocha = 140\n",
    "datum_stavby = 2003\n",
    "datum_proeje = 2020\n",
    "Mělo by to být cca 6,16 milionů ;)"
   ],
   "metadata": {
    "collapsed": false
   },
   "id": "5b8c4ad9a957bd98"
  },
  {
   "cell_type": "code",
   "outputs": [],
   "source": [
    "import pickle\n",
    "with open('muj_model.dat', 'wb') as file:\n",
    "    pickle.dump(model, file)"
   ],
   "metadata": {
    "collapsed": false,
    "ExecuteTime": {
     "end_time": "2024-03-18T12:44:41.394714600Z",
     "start_time": "2024-03-18T12:44:41.384688Z"
    }
   },
   "id": "ec9be207527c6ecc",
   "execution_count": 19
  },
  {
   "cell_type": "markdown",
   "source": [
    "# 22.7\n",
    "\n",
    "Cílem úlohy je, abyste dokázali odhadnout (predikovat) počet vypůjčených kol v zadaném časové rozemíz, tj v nějaké konkrétní hodině u jedné z půjčoven ve Washington DC. Data pocházejí z let 2011 a 2012 a jsou získána z webu http://archive.ics.uci.edu/ml/datasets/Bike+Sharing+Dataset.\n",
    "\n",
    "Použité atributy\n",
    "- den - timestamp dne\n",
    "- rocni_obdobi - 1: jaro, 2: léto, 3: podzim, 4: zima)\n",
    "- rok - 0: 2011, 1: 2012\n",
    "- mesic - 1 až 12\n",
    "- hodina - 0 až 23\n",
    "- svatek - 1: státní svátek, 0: není státní svátek\n",
    "- den_v_tydnu - 0 až 6\n",
    "- pracovni_den - 1: pracovní den, 0: víkend nebo svátek\n",
    "- pocasi - 1: jasno, 2: mlha nebo zataženo, 3: mrholení nebo slabé sněžení, 4: silný déšť, husté sněžené nebo bouřky\n",
    "- teplota - normalizovaná teplota\n",
    "- pocitova_teplota - normalizovaná pocitová teplota\n",
    "- vlhkost - normalizovaná vlhkost vzduchu\n",
    "- vitr - normalizovaná rychlost větru\n",
    "- pocet - počet výpůjček kol\n",
    "Kód pro načtení můžete použít tento:\n",
    "\n",
    "```python\n",
    "import pandas as pd\n",
    "data = pd.read_csv('https://raw.githubusercontent.com/mlcollege/ai-academy/main/06-Regrese/data/vypujcky_kol.csv', sep=',')\n",
    "data.head()\n",
    "```\n",
    "\n",
    "Vaším úkolem je na základě paramterů: rocni_obdobi, rok, mesic, hodina, svatek, den_v_tydnu, pracovni_den, pocasi, teplota, pocitova_teplota, vlhkost, vitr a predikovat proměnnou pocet\n",
    "\n",
    "Až budete mít model a spočtenou MAE a MSE, zavolejte učitele úsměv."
   ],
   "metadata": {
    "collapsed": false
   },
   "id": "5dde91abb626f4e3"
  },
  {
   "cell_type": "code",
   "outputs": [],
   "source": [],
   "metadata": {
    "collapsed": false
   },
   "id": "c24ae33bae405b85"
  },
  {
   "cell_type": "markdown",
   "source": [
    "# 22.8\n",
    "\n",
    "Pokud jste zvládli všechny předchozí úlohy, zkusíme si reálné zadání. Přijde Vám e-mail od šéfa Vaší firmy, který chce následující:\n",
    "\n",
    "Ahoj, \n",
    "\n",
    "prosím projdi si data uložená na https://archive.ics.uci.edu/ml/datasets/Wine+Quality a vytvoř mi model, který lineární regresí odhadne kvalitu červného vína.\n",
    "\n",
    "S pozdravem Bob Boss."
   ],
   "metadata": {
    "collapsed": false
   },
   "id": "e80a842eac8961bf"
  },
  {
   "cell_type": "code",
   "outputs": [],
   "source": [],
   "metadata": {
    "collapsed": false
   },
   "id": "92c88f4d452ad97d"
  }
 ],
 "metadata": {
  "kernelspec": {
   "display_name": "Python 3",
   "language": "python",
   "name": "python3"
  },
  "language_info": {
   "codemirror_mode": {
    "name": "ipython",
    "version": 2
   },
   "file_extension": ".py",
   "mimetype": "text/x-python",
   "name": "python",
   "nbconvert_exporter": "python",
   "pygments_lexer": "ipython2",
   "version": "2.7.6"
  }
 },
 "nbformat": 4,
 "nbformat_minor": 5
}
